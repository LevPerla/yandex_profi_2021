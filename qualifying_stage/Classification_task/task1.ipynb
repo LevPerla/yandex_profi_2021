{
 "cells": [
  {
   "cell_type": "markdown",
   "metadata": {},
   "source": [
    "В базе данных нефтегазовых месторождений одной компании произошёл системный сбой и информация о типе месторождения по расположению (на берегу или в открытом море) была удалена. Так как эта информация крайне важна, вам необходимо восстановить её в пострадавшем датасете"
   ]
  },
  {
   "cell_type": "markdown",
   "metadata": {},
   "source": [
    "Входные данные: тренировочный датасет train.csv, в котором поля обозначают следующее:\n",
    "\n",
    "Tectonic regime – тектонический режим месторождения  \n",
    "Onshore/Oﬀshore – тип месторождения по расположению  \n",
    "Hydrocarbon type – тип углеводородов  \n",
    "Reservoir status – статус разработки месторождения  \n",
    "Structural setting – структурные особенности месторождения  \n",
    "Depth – средняя глубина кровли резервуара  \n",
    "Period – геологическая система образования резервуара  \n",
    "Lithology – основной литологический состав коллектора  \n",
    "Gross – среднее значение общей толщины резервуара  \n",
    "Netpay – среднее значение эффективной углеводородонасыщенной толщины коллектора  \n",
    "Porosity – среднее значение матричной пористости  \n",
    "Permeability – среднее значение проницаемости по воздуху.  \n",
    "\n",
    "test.csv – датасет, для которого необходимо предсказать поле «Onshore/Oﬀshore»\n",
    "\n",
    "Выходные данные: файл prediction.csv, в котором одна колонка (без заголовка) с предсказанием поля Onshore/Oﬀshore. Предсказания следует выводить в тех же значениях, в каких они представлены в тренировочном датасете (ONSHORE/OFFSHORE/ ONSHORE-OFFSHORE).\n",
    "\n",
    "Критерии проверки: вычисляется точность предсказания (accuracy_score), округляется до 2-х знаков и итоговый балл считается по формуле score = 50*accuracy_score. Таким образом максимальный балл 50 будет соответствовать максимально точности 1."
   ]
  },
  {
   "cell_type": "code",
   "execution_count": 1,
   "metadata": {},
   "outputs": [],
   "source": [
    "import pandas as pd\n",
    "import numpy as np\n",
    "from pandas_profiling import ProfileReport\n",
    "from sklearn.model_selection import train_test_split\n",
    "from sklearn.model_selection import StratifiedKFold, GridSearchCV\n",
    "\n",
    "import warnings\n",
    "warnings.filterwarnings('ignore')\n",
    "\n",
    "import seaborn as sns\n",
    "%matplotlib inline\n",
    "pd.set_option('max_colwidth', 200)\n",
    "pd.set_option('display.max_columns', 200)\n",
    "pd.set_option('display.max_rows', 200)"
   ]
  },
  {
   "cell_type": "markdown",
   "metadata": {},
   "source": [
    "# Data proccessing"
   ]
  },
  {
   "cell_type": "code",
   "execution_count": 2,
   "outputs": [],
   "source": [
    "train_df = pd.read_csv(\"data/train.csv\")\n",
    "X_test = pd.read_csv(\"data/test.csv\")\n",
    "\n",
    "train_df.columns = (train_df.columns.str.strip()\n",
    "                            .str.replace('\\s+', '_', regex=True)\n",
    "                            .str.replace('/', '_', regex=True))\n",
    "X_test.columns = (X_test.columns.str.strip()\n",
    "                            .str.replace('\\s+', '_', regex=True)\n",
    "                            .str.replace('/', '_', regex=True))"
   ],
   "metadata": {
    "collapsed": false,
    "pycharm": {
     "name": "#%%\n"
    }
   }
  },
  {
   "cell_type": "code",
   "execution_count": 3,
   "outputs": [],
   "source": [
    "num_cols = [\"Depth\", \"Gross\", \"Netpay\", \"Porosity\", \"Permeability\"]\n",
    "cat_cols = [\"Tectonic_regime\", \"Hydrocarbon_type\", \"Reservoir_status\", \"Structural_setting\", \"Period\", \"Lithology\"]\n",
    "feature_cols = num_cols + cat_cols\n",
    "target_col = \"Onshore_Offshore\""
   ],
   "metadata": {
    "collapsed": false,
    "pycharm": {
     "name": "#%%\n"
    }
   }
  },
  {
   "cell_type": "code",
   "execution_count": 4,
   "outputs": [
    {
     "data": {
      "text/plain": "                                            Tectonic_regime  Onshore_Offshore  \\\n0  STRIKE-SLIP/TRANSPRESSION/BASEMENT-I                      OFFSHORE           \n1  GRAVITY/EXTENSION/EVAPORITE                               OFFSHORE           \n2  GRAVITY/EXTENSION/EVAPORITE                               ONSHORE            \n3  COMPRESSION                                               ONSHORE            \n4  INVERSION/COMPRESSION/EXTENSION                           ONSHORE            \n\n   Hydrocarbon_type          Reservoir_status             Structural_setting  \\\n0  OIL               DEVELOPING                INVERSION/WRENCH                \n1  OIL               MATURE PRODUCTION         SALT/PASSIVE MARGIN             \n2  OIL               MATURE PRODUCTION         PASSIVE MARGIN                  \n3  OIL               DECLINING PRODUCTION      THRUST                          \n4  OIL               DECLINING PRODUCTION      INVERSION/RIFT                  \n\n   Depth                    Period                  Lithology   Gross  Netpay  \\\n0   3520  NEOGENE                   SANDSTONE                  2460.0   220.0   \n1   9967  CRETACEOUS                LIMESTONE                   427.0   160.0   \n2   8700  CRETACEOUS                LIMESTONE                    95.0    15.0   \n3   5084  CRETACEOUS                SANDSTONE                   328.0   300.0   \n4   1030  CRETACEOUS                SANDSTONE                   260.0    33.0   \n\n   Porosity  Permeability  \n0      20.0          45.0  \n1      19.0         175.0  \n2      12.0          20.0  \n3      13.0         600.0  \n4      24.0         182.0  ",
      "text/html": "<div>\n<style scoped>\n    .dataframe tbody tr th:only-of-type {\n        vertical-align: middle;\n    }\n\n    .dataframe tbody tr th {\n        vertical-align: top;\n    }\n\n    .dataframe thead th {\n        text-align: right;\n    }\n</style>\n<table border=\"1\" class=\"dataframe\">\n  <thead>\n    <tr style=\"text-align: right;\">\n      <th></th>\n      <th>Tectonic_regime</th>\n      <th>Onshore_Offshore</th>\n      <th>Hydrocarbon_type</th>\n      <th>Reservoir_status</th>\n      <th>Structural_setting</th>\n      <th>Depth</th>\n      <th>Period</th>\n      <th>Lithology</th>\n      <th>Gross</th>\n      <th>Netpay</th>\n      <th>Porosity</th>\n      <th>Permeability</th>\n    </tr>\n  </thead>\n  <tbody>\n    <tr>\n      <th>0</th>\n      <td>STRIKE-SLIP/TRANSPRESSION/BASEMENT-I</td>\n      <td>OFFSHORE</td>\n      <td>OIL</td>\n      <td>DEVELOPING</td>\n      <td>INVERSION/WRENCH</td>\n      <td>3520</td>\n      <td>NEOGENE</td>\n      <td>SANDSTONE</td>\n      <td>2460.0</td>\n      <td>220.0</td>\n      <td>20.0</td>\n      <td>45.0</td>\n    </tr>\n    <tr>\n      <th>1</th>\n      <td>GRAVITY/EXTENSION/EVAPORITE</td>\n      <td>OFFSHORE</td>\n      <td>OIL</td>\n      <td>MATURE PRODUCTION</td>\n      <td>SALT/PASSIVE MARGIN</td>\n      <td>9967</td>\n      <td>CRETACEOUS</td>\n      <td>LIMESTONE</td>\n      <td>427.0</td>\n      <td>160.0</td>\n      <td>19.0</td>\n      <td>175.0</td>\n    </tr>\n    <tr>\n      <th>2</th>\n      <td>GRAVITY/EXTENSION/EVAPORITE</td>\n      <td>ONSHORE</td>\n      <td>OIL</td>\n      <td>MATURE PRODUCTION</td>\n      <td>PASSIVE MARGIN</td>\n      <td>8700</td>\n      <td>CRETACEOUS</td>\n      <td>LIMESTONE</td>\n      <td>95.0</td>\n      <td>15.0</td>\n      <td>12.0</td>\n      <td>20.0</td>\n    </tr>\n    <tr>\n      <th>3</th>\n      <td>COMPRESSION</td>\n      <td>ONSHORE</td>\n      <td>OIL</td>\n      <td>DECLINING PRODUCTION</td>\n      <td>THRUST</td>\n      <td>5084</td>\n      <td>CRETACEOUS</td>\n      <td>SANDSTONE</td>\n      <td>328.0</td>\n      <td>300.0</td>\n      <td>13.0</td>\n      <td>600.0</td>\n    </tr>\n    <tr>\n      <th>4</th>\n      <td>INVERSION/COMPRESSION/EXTENSION</td>\n      <td>ONSHORE</td>\n      <td>OIL</td>\n      <td>DECLINING PRODUCTION</td>\n      <td>INVERSION/RIFT</td>\n      <td>1030</td>\n      <td>CRETACEOUS</td>\n      <td>SANDSTONE</td>\n      <td>260.0</td>\n      <td>33.0</td>\n      <td>24.0</td>\n      <td>182.0</td>\n    </tr>\n  </tbody>\n</table>\n</div>"
     },
     "execution_count": 4,
     "metadata": {},
     "output_type": "execute_result"
    }
   ],
   "source": [
    "train_df.head()"
   ],
   "metadata": {
    "collapsed": false,
    "pycharm": {
     "name": "#%%\n"
    }
   }
  },
  {
   "cell_type": "code",
   "execution_count": 5,
   "outputs": [
    {
     "data": {
      "text/plain": "ONSHORE             211\nOFFSHORE             93\nONSHORE-OFFSHORE      5\nName: Onshore_Offshore, dtype: int64"
     },
     "execution_count": 5,
     "metadata": {},
     "output_type": "execute_result"
    }
   ],
   "source": [
    "# looks on target distribution\n",
    "train_df['Onshore_Offshore'].value_counts()"
   ],
   "metadata": {
    "collapsed": false,
    "pycharm": {
     "name": "#%%\n"
    }
   }
  },
  {
   "cell_type": "code",
   "execution_count": 6,
   "outputs": [],
   "source": [
    "from sklearn.preprocessing import LabelEncoder\n",
    "\n",
    "# Encode target\n",
    "lbl_encoder = LabelEncoder()\n",
    "train_df[\"Onshore_Offshore\"] = lbl_encoder.fit_transform(train_df['Onshore_Offshore'])"
   ],
   "metadata": {
    "collapsed": false,
    "pycharm": {
     "name": "#%%\n"
    }
   }
  },
  {
   "cell_type": "code",
   "execution_count": 7,
   "outputs": [],
   "source": [
    "# train_profile = ProfileReport(train_df)\n",
    "# train_profile.to_file(\"reports/train_data.html\")"
   ],
   "metadata": {
    "collapsed": false,
    "pycharm": {
     "name": "#%%\n"
    }
   }
  },
  {
   "cell_type": "code",
   "execution_count": 8,
   "outputs": [],
   "source": [
    "# test_profile = ProfileReport(X_test)\n",
    "# test_profile.to_file(\"reports/test_data.html\")"
   ],
   "metadata": {
    "collapsed": false,
    "pycharm": {
     "name": "#%%\n"
    }
   }
  },
  {
   "cell_type": "markdown",
   "source": [
    "# Models training"
   ],
   "metadata": {
    "collapsed": false
   }
  },
  {
   "cell_type": "code",
   "execution_count": 9,
   "outputs": [],
   "source": [
    "from sklearn.metrics import accuracy_score, classification_report, confusion_matrix\n",
    "\n",
    "# Define a dict to save models\n",
    "models_dict = {'model_name': [],\n",
    "               'model': [],\n",
    "               'type': [],\n",
    "               'threshold':[],\n",
    "               'val_accuracy': [],\n",
    "               }\n",
    "\n",
    "def opt_threshold_acc(y_true, y_pred):\n",
    "    A = list(zip(y_true, y_pred))\n",
    "    A = sorted(A, key=lambda x: x[1])\n",
    "    total = len(A)\n",
    "    tp = len([1 for x in A if x[0]==1])\n",
    "    tn = 0\n",
    "    th_acc = []\n",
    "    for x in A:\n",
    "        th = x[1]\n",
    "        if x[0] == 1:\n",
    "            tp -= 1\n",
    "        else:\n",
    "            tn += 1\n",
    "        acc = (tp + tn) / total\n",
    "        th_acc.append((th, acc))\n",
    "    return max(th_acc, key=lambda x: x[1])\n",
    "\n",
    "def metrics_eval(y_test, y_pred):\n",
    "    print('Max test accuracy_score:', accuracy_score(y_test, y_pred))\n",
    "    print('classification_report:\\n', classification_report(y_test, y_pred))\n",
    "    df = pd.DataFrame(confusion_matrix(y_test, y_pred))\n",
    "    sns.heatmap(df, annot=True, cbar=None, cmap=\"Blues\")\n",
    "\n",
    "def seve_best_model(models_dict, model, model_name, X_test, y_test):\n",
    "    if model_name =='CatBoostClassifier':\n",
    "        y_pred = model.predict(X_test)\n",
    "    else:\n",
    "        y_pred = model.predict_proba(X_test)\n",
    "\n",
    "    if y_pred.shape[1] == 2:\n",
    "        y_pred = y_pred[:, 1]\n",
    "        threshold, accuracy = opt_threshold_acc(y_test, y_pred)\n",
    "        type_ = 'binary'\n",
    "        y_pred = pd.Series(y_pred).apply(lambda x: 1 if x > threshold else 0)\n",
    "    elif y_pred.shape[1] > 2:\n",
    "        y_pred = pd.DataFrame(y_pred.round(3).argmax(axis=1), columns=['target_pred'])\n",
    "        threshold = None\n",
    "        type_ = 'multiclass'\n",
    "        accuracy = accuracy_score(y_test, y_pred)\n",
    "    else:\n",
    "        raise ValueError('model predict_proba incorrect')\n",
    "\n",
    "    models_dict['model_name'].append(model_name)\n",
    "    models_dict['model'].append(model)\n",
    "    models_dict['type'].append(type_)\n",
    "    models_dict['threshold'].append(threshold)\n",
    "    models_dict['val_accuracy'].append(accuracy)\n",
    "\n",
    "    metrics_eval(y_test, y_pred)"
   ],
   "metadata": {
    "collapsed": false,
    "pycharm": {
     "name": "#%%\n"
    }
   }
  },
  {
   "cell_type": "markdown",
   "source": [
    "## Multiclass classification"
   ],
   "metadata": {
    "collapsed": false
   }
  },
  {
   "cell_type": "code",
   "execution_count": 10,
   "outputs": [],
   "source": [
    "# Split data\n",
    "X_train, X_val, y_train, y_val = train_test_split(train_df[feature_cols],\n",
    "                                                  train_df[target_col],\n",
    "                                                  stratify=train_df[target_col],\n",
    "                                                  shuffle=True,\n",
    "                                                  random_state=42,\n",
    "                                                  train_size=0.8)"
   ],
   "metadata": {
    "collapsed": false,
    "pycharm": {
     "name": "#%%\n"
    }
   }
  },
  {
   "cell_type": "markdown",
   "source": [
    "### Catboost"
   ],
   "metadata": {
    "collapsed": false
   }
  },
  {
   "cell_type": "code",
   "execution_count": 11,
   "outputs": [],
   "source": [
    "from catboost import CatBoostClassifier, Pool"
   ],
   "metadata": {
    "collapsed": false,
    "pycharm": {
     "name": "#%%\n"
    }
   }
  },
  {
   "cell_type": "code",
   "execution_count": 12,
   "outputs": [],
   "source": [
    "train_pool = Pool(X_train, pd.get_dummies(y_train, drop_first=False), cat_features=cat_cols)\n",
    "val_pool = Pool(X_val, pd.get_dummies(y_val, drop_first=False), cat_features=cat_cols)"
   ],
   "metadata": {
    "collapsed": false,
    "pycharm": {
     "name": "#%%\n"
    }
   }
  },
  {
   "cell_type": "code",
   "execution_count": 13,
   "outputs": [
    {
     "name": "stdout",
     "output_type": "stream",
     "text": [
      "\n",
      "bestTest = 0.8709677419\n",
      "bestIteration = 460\n",
      "\n",
      "Shrink model to first 461 iterations.\n"
     ]
    },
    {
     "data": {
      "text/plain": "<catboost.core.CatBoostClassifier at 0x7f7fad5484c0>"
     },
     "execution_count": 13,
     "metadata": {},
     "output_type": "execute_result"
    }
   ],
   "source": [
    "catboost_model = CatBoostClassifier(\n",
    "                loss_function='MultiCrossEntropy', # MultiCrossEntropy, MultiClassOneVsAll\n",
    "                eval_metric='Accuracy',\n",
    "                iterations=1000,\n",
    "                learning_rate=0.01,\n",
    "                l2_leaf_reg=3,\n",
    "                bagging_temperature=1,\n",
    "                random_strength=1,\n",
    "                one_hot_max_size=2,\n",
    "                leaf_estimation_method='Newton',\n",
    "                save_snapshot=True,\n",
    "                snapshot_file='models/snapshot.bkp',\n",
    "                snapshot_interval=1,\n",
    "                )\n",
    "catboost_model.fit(train_pool,\n",
    "                   eval_set=val_pool,\n",
    "                   metric_period=10,\n",
    "                   plot=False,\n",
    "                   verbose=50)"
   ],
   "metadata": {
    "collapsed": false,
    "pycharm": {
     "name": "#%%\n"
    }
   }
  },
  {
   "cell_type": "code",
   "execution_count": 14,
   "outputs": [
    {
     "name": "stdout",
     "output_type": "stream",
     "text": [
      "Max test accuracy_score: 0.8709677419354839\n",
      "classification_report:\n",
      "               precision    recall  f1-score   support\n",
      "\n",
      "           0       0.76      0.84      0.80        19\n",
      "           1       0.93      0.90      0.92        42\n",
      "           2       0.00      0.00      0.00         1\n",
      "\n",
      "    accuracy                           0.87        62\n",
      "   macro avg       0.56      0.58      0.57        62\n",
      "weighted avg       0.86      0.87      0.87        62\n",
      "\n"
     ]
    },
    {
     "data": {
      "text/plain": "<Figure size 640x480 with 1 Axes>",
      "image/png": "[encoded data removed]"
     },
     "metadata": {},
     "output_type": "display_data"
    }
   ],
   "source": [
    "seve_best_model(models_dict, catboost_model, 'CatBoostClassifier' ,val_pool, y_val)"
   ],
   "metadata": {
    "collapsed": false,
    "pycharm": {
     "name": "#%%\n"
    }
   }
  },
  {
   "cell_type": "code",
   "execution_count": 15,
   "outputs": [
    {
     "data": {
      "text/plain": "            Feature Id  Importances\n0      Tectonic_regime    24.690609\n1               Period    12.633945\n2   Structural_setting    11.827578\n3     Hydrocarbon_type     9.844813\n4     Reservoir_status     9.086950\n5            Lithology     8.322665\n6               Netpay     7.138068\n7                Depth     6.601521\n8             Porosity     4.105780\n9         Permeability     4.068825\n10               Gross     1.679244",
      "text/html": "<div>\n<style scoped>\n    .dataframe tbody tr th:only-of-type {\n        vertical-align: middle;\n    }\n\n    .dataframe tbody tr th {\n        vertical-align: top;\n    }\n\n    .dataframe thead th {\n        text-align: right;\n    }\n</style>\n<table border=\"1\" class=\"dataframe\">\n  <thead>\n    <tr style=\"text-align: right;\">\n      <th></th>\n      <th>Feature Id</th>\n      <th>Importances</th>\n    </tr>\n  </thead>\n  <tbody>\n    <tr>\n      <th>0</th>\n      <td>Tectonic_regime</td>\n      <td>24.690609</td>\n    </tr>\n    <tr>\n      <th>1</th>\n      <td>Period</td>\n      <td>12.633945</td>\n    </tr>\n    <tr>\n      <th>2</th>\n      <td>Structural_setting</td>\n      <td>11.827578</td>\n    </tr>\n    <tr>\n      <th>3</th>\n      <td>Hydrocarbon_type</td>\n      <td>9.844813</td>\n    </tr>\n    <tr>\n      <th>4</th>\n      <td>Reservoir_status</td>\n      <td>9.086950</td>\n    </tr>\n    <tr>\n      <th>5</th>\n      <td>Lithology</td>\n      <td>8.322665</td>\n    </tr>\n    <tr>\n      <th>6</th>\n      <td>Netpay</td>\n      <td>7.138068</td>\n    </tr>\n    <tr>\n      <th>7</th>\n      <td>Depth</td>\n      <td>6.601521</td>\n    </tr>\n    <tr>\n      <th>8</th>\n      <td>Porosity</td>\n      <td>4.105780</td>\n    </tr>\n    <tr>\n      <th>9</th>\n      <td>Permeability</td>\n      <td>4.068825</td>\n    </tr>\n    <tr>\n      <th>10</th>\n      <td>Gross</td>\n      <td>1.679244</td>\n    </tr>\n  </tbody>\n</table>\n</div>"
     },
     "execution_count": 15,
     "metadata": {},
     "output_type": "execute_result"
    }
   ],
   "source": [
    "catboost_model.get_feature_importance(prettified=True)"
   ],
   "metadata": {
    "collapsed": false,
    "pycharm": {
     "name": "#%%\n"
    }
   }
  },
  {
   "cell_type": "markdown",
   "source": [
    "### LogisticRegressionCV"
   ],
   "metadata": {
    "collapsed": false
   }
  },
  {
   "cell_type": "code",
   "execution_count": 16,
   "outputs": [],
   "source": [
    "from sklearn.compose import ColumnTransformer\n",
    "from sklearn.pipeline import Pipeline\n",
    "from sklearn.impute import SimpleImputer\n",
    "from sklearn.preprocessing import StandardScaler, OneHotEncoder"
   ],
   "metadata": {
    "collapsed": false,
    "pycharm": {
     "name": "#%%\n"
    }
   }
  },
  {
   "cell_type": "code",
   "execution_count": 17,
   "outputs": [],
   "source": [
    "# # Oversampling\n",
    "# from imblearn.over_sampling import RandomOverSampler\n",
    "# from imblearn.under_sampling import RandomUnderSampler\n",
    "#\n",
    "# sm = RandomOverSampler(random_state=42,\n",
    "#                        sampling_strategy={1:78,0:180, 2:30}\n",
    "#                       )\n",
    "# und = RandomUnderSampler(random_state=42,\n",
    "#                        sampling_strategy={1:78,0:180, 2:30}\n",
    "#                       )"
   ],
   "metadata": {
    "collapsed": false,
    "pycharm": {
     "name": "#%%\n"
    }
   }
  },
  {
   "cell_type": "code",
   "execution_count": 18,
   "outputs": [],
   "source": [
    "# Define preproccessors\n",
    "numeric_transformer = Pipeline(\n",
    "    steps=[(\"imputer\", SimpleImputer(strategy=\"median\")),\n",
    "           (\"scaler\", StandardScaler())]\n",
    ")\n",
    "preprocessor = ColumnTransformer(\n",
    "    transformers=[\n",
    "        (\"num\", numeric_transformer, num_cols),\n",
    "        (\"cat\", OneHotEncoder(handle_unknown=\"ignore\"), cat_cols),\n",
    "    ]\n",
    ")"
   ],
   "metadata": {
    "collapsed": false,
    "pycharm": {
     "name": "#%%\n"
    }
   }
  },
  {
   "cell_type": "code",
   "source": [
    "from sklearn.linear_model import LogisticRegressionCV\n",
    "\n",
    "fold = StratifiedKFold(n_splits=3, shuffle=True, random_state=42)\n",
    "\n",
    "logit_reg_mod = LogisticRegressionCV(\n",
    "    penalty=\"elasticnet\",\n",
    "    scoring='accuracy', # aug_score, recall_weighted, accuracy\n",
    "    Cs=list(np.power(10.0, np.arange(-10, 10))),\n",
    "    max_iter=15000,\n",
    "    cv=fold,\n",
    "    refit=True,\n",
    "    class_weight=\"balanced\",\n",
    "    random_state=42,\n",
    "    multi_class = \"multinomial\",\n",
    "    solver='saga', # ‘lbfgs’, ‘liblinear’, ‘newton-cg’, ‘newton-cholesky’, ‘sag’, ‘saga’}\n",
    "    n_jobs=-1,\n",
    "    l1_ratios=list(np.arange(0, 1, 0.2)),\n",
    "    verbose=0\n",
    "    )\n",
    "\n",
    "logit_reg_mult = Pipeline(\n",
    "    steps=[(\"preprocessor\", preprocessor),\n",
    "           (\"classifier\", logit_reg_mod)]\n",
    ")\n",
    "logit_reg_mult.fit(X_train, y_train)"
   ],
   "metadata": {
    "collapsed": false,
    "pycharm": {
     "name": "#%%\n"
    }
   },
   "execution_count": 19,
   "outputs": [
    {
     "data": {
      "text/plain": "Pipeline(steps=[('preprocessor',\n                 ColumnTransformer(transformers=[('num',\n                                                  Pipeline(steps=[('imputer',\n                                                                   SimpleImputer(strategy='median')),\n                                                                  ('scaler',\n                                                                   StandardScaler())]),\n                                                  ['Depth', 'Gross', 'Netpay',\n                                                   'Porosity',\n                                                   'Permeability']),\n                                                 ('cat',\n                                                  OneHotEncoder(handle_unknown='ignore'),\n                                                  ['Tectonic_regime',\n                                                   'Hydrocarbon_type',\n                                                   'Reservoir_status',\n                                                   'Structural_setting',\n                                                   'Period', '...\n                                          1e-05, 0.0001, 0.001, 0.01, 0.1, 1.0,\n                                          10.0, 100.0, 1000.0, 10000.0,\n                                          100000.0, 1000000.0, 10000000.0,\n                                          100000000.0, 1000000000.0],\n                                      class_weight='balanced',\n                                      cv=StratifiedKFold(n_splits=3, random_state=42, shuffle=True),\n                                      l1_ratios=[0.0, 0.2, 0.4,\n                                                 0.6000000000000001, 0.8],\n                                      max_iter=15000, multi_class='multinomial',\n                                      n_jobs=-1, penalty='elasticnet',\n                                      random_state=42, scoring='accuracy',\n                                      solver='saga'))])",
      "text/html": "<style>#sk-container-id-1 {color: black;background-color: white;}#sk-container-id-1 pre{padding: 0;}#sk-container-id-1 div.sk-toggleable {background-color: white;}#sk-container-id-1 label.sk-toggleable__label {cursor: pointer;display: block;width: 100%;margin-bottom: 0;padding: 0.3em;box-sizing: border-box;text-align: center;}#sk-container-id-1 label.sk-toggleable__label-arrow:before {content: \"▸\";float: left;margin-right: 0.25em;color: #696969;}#sk-container-id-1 label.sk-toggleable__label-arrow:hover:before {color: black;}#sk-container-id-1 div.sk-estimator:hover label.sk-toggleable__label-arrow:before {color: black;}#sk-container-id-1 div.sk-toggleable__content {max-height: 0;max-width: 0;overflow: hidden;text-align: left;background-color: #f0f8ff;}#sk-container-id-1 div.sk-toggleable__content pre {margin: 0.2em;color: black;border-radius: 0.25em;background-color: #f0f8ff;}#sk-container-id-1 input.sk-toggleable__control:checked~div.sk-toggleable__content {max-height: 200px;max-width: 100%;overflow: auto;}#sk-container-id-1 input.sk-toggleable__control:checked~label.sk-toggleable__label-arrow:before {content: \"▾\";}#sk-container-id-1 div.sk-estimator input.sk-toggleable__control:checked~label.sk-toggleable__label {background-color: #d4ebff;}#sk-container-id-1 div.sk-label input.sk-toggleable__control:checked~label.sk-toggleable__label {background-color: #d4ebff;}#sk-container-id-1 input.sk-hidden--visually {border: 0;clip: rect(1px 1px 1px 1px);clip: rect(1px, 1px, 1px, 1px);height: 1px;margin: -1px;overflow: hidden;padding: 0;position: absolute;width: 1px;}#sk-container-id-1 div.sk-estimator {font-family: monospace;background-color: #f0f8ff;border: 1px dotted black;border-radius: 0.25em;box-sizing: border-box;margin-bottom: 0.5em;}#sk-container-id-1 div.sk-estimator:hover {background-color: #d4ebff;}#sk-container-id-1 div.sk-parallel-item::after {content: \"\";width: 100%;border-bottom: 1px solid gray;flex-grow: 1;}#sk-container-id-1 div.sk-label:hover label.sk-toggleable__label {background-color: #d4ebff;}#sk-container-id-1 div.sk-serial::before {content: \"\";position: absolute;border-left: 1px solid gray;box-sizing: border-box;top: 0;bottom: 0;left: 50%;z-index: 0;}#sk-container-id-1 div.sk-serial {display: flex;flex-direction: column;align-items: center;background-color: white;padding-right: 0.2em;padding-left: 0.2em;position: relative;}#sk-container-id-1 div.sk-item {position: relative;z-index: 1;}#sk-container-id-1 div.sk-parallel {display: flex;align-items: stretch;justify-content: center;background-color: white;position: relative;}#sk-container-id-1 div.sk-item::before, #sk-container-id-1 div.sk-parallel-item::before {content: \"\";position: absolute;border-left: 1px solid gray;box-sizing: border-box;top: 0;bottom: 0;left: 50%;z-index: -1;}#sk-container-id-1 div.sk-parallel-item {display: flex;flex-direction: column;z-index: 1;position: relative;background-color: white;}#sk-container-id-1 div.sk-parallel-item:first-child::after {align-self: flex-end;width: 50%;}#sk-container-id-1 div.sk-parallel-item:last-child::after {align-self: flex-start;width: 50%;}#sk-container-id-1 div.sk-parallel-item:only-child::after {width: 0;}#sk-container-id-1 div.sk-dashed-wrapped {border: 1px dashed gray;margin: 0 0.4em 0.5em 0.4em;box-sizing: border-box;padding-bottom: 0.4em;background-color: white;}#sk-container-id-1 div.sk-label label {font-family: monospace;font-weight: bold;display: inline-block;line-height: 1.2em;}#sk-container-id-1 div.sk-label-container {text-align: center;}#sk-container-id-1 div.sk-container {/* jupyter's `normalize.less` sets `[hidden] { display: none; }` but bootstrap.min.css set `[hidden] { display: none !important; }` so we also need the `!important` here to be able to override the default hidden behavior on the sphinx rendered scikit-learn.org. See: https://github.com/scikit-learn/scikit-learn/issues/21755 */display: inline-block !important;position: relative;}#sk-container-id-1 div.sk-text-repr-fallback {display: none;}</style><div id=\"sk-container-id-1\" class=\"sk-top-container\"><div class=\"sk-text-repr-fallback\"><pre>Pipeline(steps=[(&#x27;preprocessor&#x27;,\n                 ColumnTransformer(transformers=[(&#x27;num&#x27;,\n                                                  Pipeline(steps=[(&#x27;imputer&#x27;,\n                                                                   SimpleImputer(strategy=&#x27;median&#x27;)),\n                                                                  (&#x27;scaler&#x27;,\n                                                                   StandardScaler())]),\n                                                  [&#x27;Depth&#x27;, &#x27;Gross&#x27;, &#x27;Netpay&#x27;,\n                                                   &#x27;Porosity&#x27;,\n                                                   &#x27;Permeability&#x27;]),\n                                                 (&#x27;cat&#x27;,\n                                                  OneHotEncoder(handle_unknown=&#x27;ignore&#x27;),\n                                                  [&#x27;Tectonic_regime&#x27;,\n                                                   &#x27;Hydrocarbon_type&#x27;,\n                                                   &#x27;Reservoir_status&#x27;,\n                                                   &#x27;Structural_setting&#x27;,\n                                                   &#x27;Period&#x27;, &#x27;...\n                                          1e-05, 0.0001, 0.001, 0.01, 0.1, 1.0,\n                                          10.0, 100.0, 1000.0, 10000.0,\n                                          100000.0, 1000000.0, 10000000.0,\n                                          100000000.0, 1000000000.0],\n                                      class_weight=&#x27;balanced&#x27;,\n                                      cv=StratifiedKFold(n_splits=3, random_state=42, shuffle=True),\n                                      l1_ratios=[0.0, 0.2, 0.4,\n                                                 0.6000000000000001, 0.8],\n                                      max_iter=15000, multi_class=&#x27;multinomial&#x27;,\n                                      n_jobs=-1, penalty=&#x27;elasticnet&#x27;,\n                                      random_state=42, scoring=&#x27;accuracy&#x27;,\n                                      solver=&#x27;saga&#x27;))])</pre><b>In a Jupyter environment, please rerun this cell to show the HTML representation or trust the notebook. <br />On GitHub, the HTML representation is unable to render, please try loading this page with nbviewer.org.</b></div><div class=\"sk-container\" hidden><div class=\"sk-item sk-dashed-wrapped\"><div class=\"sk-label-container\"><div class=\"sk-label sk-toggleable\"><input class=\"sk-toggleable__control sk-hidden--visually\" id=\"sk-estimator-id-1\" type=\"checkbox\" ><label for=\"sk-estimator-id-1\" class=\"sk-toggleable__label sk-toggleable__label-arrow\">Pipeline</label><div class=\"sk-toggleable__content\"><pre>Pipeline(steps=[(&#x27;preprocessor&#x27;,\n                 ColumnTransformer(transformers=[(&#x27;num&#x27;,\n                                                  Pipeline(steps=[(&#x27;imputer&#x27;,\n                                                                   SimpleImputer(strategy=&#x27;median&#x27;)),\n                                                                  (&#x27;scaler&#x27;,\n                                                                   StandardScaler())]),\n                                                  [&#x27;Depth&#x27;, &#x27;Gross&#x27;, &#x27;Netpay&#x27;,\n                                                   &#x27;Porosity&#x27;,\n                                                   &#x27;Permeability&#x27;]),\n                                                 (&#x27;cat&#x27;,\n                                                  OneHotEncoder(handle_unknown=&#x27;ignore&#x27;),\n                                                  [&#x27;Tectonic_regime&#x27;,\n                                                   &#x27;Hydrocarbon_type&#x27;,\n                                                   &#x27;Reservoir_status&#x27;,\n                                                   &#x27;Structural_setting&#x27;,\n                                                   &#x27;Period&#x27;, &#x27;...\n                                          1e-05, 0.0001, 0.001, 0.01, 0.1, 1.0,\n                                          10.0, 100.0, 1000.0, 10000.0,\n                                          100000.0, 1000000.0, 10000000.0,\n                                          100000000.0, 1000000000.0],\n                                      class_weight=&#x27;balanced&#x27;,\n                                      cv=StratifiedKFold(n_splits=3, random_state=42, shuffle=True),\n                                      l1_ratios=[0.0, 0.2, 0.4,\n                                                 0.6000000000000001, 0.8],\n                                      max_iter=15000, multi_class=&#x27;multinomial&#x27;,\n                                      n_jobs=-1, penalty=&#x27;elasticnet&#x27;,\n                                      random_state=42, scoring=&#x27;accuracy&#x27;,\n                                      solver=&#x27;saga&#x27;))])</pre></div></div></div><div class=\"sk-serial\"><div class=\"sk-item sk-dashed-wrapped\"><div class=\"sk-label-container\"><div class=\"sk-label sk-toggleable\"><input class=\"sk-toggleable__control sk-hidden--visually\" id=\"sk-estimator-id-2\" type=\"checkbox\" ><label for=\"sk-estimator-id-2\" class=\"sk-toggleable__label sk-toggleable__label-arrow\">preprocessor: ColumnTransformer</label><div class=\"sk-toggleable__content\"><pre>ColumnTransformer(transformers=[(&#x27;num&#x27;,\n                                 Pipeline(steps=[(&#x27;imputer&#x27;,\n                                                  SimpleImputer(strategy=&#x27;median&#x27;)),\n                                                 (&#x27;scaler&#x27;, StandardScaler())]),\n                                 [&#x27;Depth&#x27;, &#x27;Gross&#x27;, &#x27;Netpay&#x27;, &#x27;Porosity&#x27;,\n                                  &#x27;Permeability&#x27;]),\n                                (&#x27;cat&#x27;, OneHotEncoder(handle_unknown=&#x27;ignore&#x27;),\n                                 [&#x27;Tectonic_regime&#x27;, &#x27;Hydrocarbon_type&#x27;,\n                                  &#x27;Reservoir_status&#x27;, &#x27;Structural_setting&#x27;,\n                                  &#x27;Period&#x27;, &#x27;Lithology&#x27;])])</pre></div></div></div><div class=\"sk-parallel\"><div class=\"sk-parallel-item\"><div class=\"sk-item\"><div class=\"sk-label-container\"><div class=\"sk-label sk-toggleable\"><input class=\"sk-toggleable__control sk-hidden--visually\" id=\"sk-estimator-id-3\" type=\"checkbox\" ><label for=\"sk-estimator-id-3\" class=\"sk-toggleable__label sk-toggleable__label-arrow\">num</label><div class=\"sk-toggleable__content\"><pre>[&#x27;Depth&#x27;, &#x27;Gross&#x27;, &#x27;Netpay&#x27;, &#x27;Porosity&#x27;, &#x27;Permeability&#x27;]</pre></div></div></div><div class=\"sk-serial\"><div class=\"sk-item\"><div class=\"sk-serial\"><div class=\"sk-item\"><div class=\"sk-estimator sk-toggleable\"><input class=\"sk-toggleable__control sk-hidden--visually\" id=\"sk-estimator-id-4\" type=\"checkbox\" ><label for=\"sk-estimator-id-4\" class=\"sk-toggleable__label sk-toggleable__label-arrow\">SimpleImputer</label><div class=\"sk-toggleable__content\"><pre>SimpleImputer(strategy=&#x27;median&#x27;)</pre></div></div></div><div class=\"sk-item\"><div class=\"sk-estimator sk-toggleable\"><input class=\"sk-toggleable__control sk-hidden--visually\" id=\"sk-estimator-id-5\" type=\"checkbox\" ><label for=\"sk-estimator-id-5\" class=\"sk-toggleable__label sk-toggleable__label-arrow\">StandardScaler</label><div class=\"sk-toggleable__content\"><pre>StandardScaler()</pre></div></div></div></div></div></div></div></div><div class=\"sk-parallel-item\"><div class=\"sk-item\"><div class=\"sk-label-container\"><div class=\"sk-label sk-toggleable\"><input class=\"sk-toggleable__control sk-hidden--visually\" id=\"sk-estimator-id-6\" type=\"checkbox\" ><label for=\"sk-estimator-id-6\" class=\"sk-toggleable__label sk-toggleable__label-arrow\">cat</label><div class=\"sk-toggleable__content\"><pre>[&#x27;Tectonic_regime&#x27;, &#x27;Hydrocarbon_type&#x27;, &#x27;Reservoir_status&#x27;, &#x27;Structural_setting&#x27;, &#x27;Period&#x27;, &#x27;Lithology&#x27;]</pre></div></div></div><div class=\"sk-serial\"><div class=\"sk-item\"><div class=\"sk-estimator sk-toggleable\"><input class=\"sk-toggleable__control sk-hidden--visually\" id=\"sk-estimator-id-7\" type=\"checkbox\" ><label for=\"sk-estimator-id-7\" class=\"sk-toggleable__label sk-toggleable__label-arrow\">OneHotEncoder</label><div class=\"sk-toggleable__content\"><pre>OneHotEncoder(handle_unknown=&#x27;ignore&#x27;)</pre></div></div></div></div></div></div></div></div><div class=\"sk-item\"><div class=\"sk-estimator sk-toggleable\"><input class=\"sk-toggleable__control sk-hidden--visually\" id=\"sk-estimator-id-8\" type=\"checkbox\" ><label for=\"sk-estimator-id-8\" class=\"sk-toggleable__label sk-toggleable__label-arrow\">LogisticRegressionCV</label><div class=\"sk-toggleable__content\"><pre>LogisticRegressionCV(Cs=[1e-10, 1e-09, 1e-08, 1e-07, 1e-06, 1e-05, 0.0001,\n                         0.001, 0.01, 0.1, 1.0, 10.0, 100.0, 1000.0, 10000.0,\n                         100000.0, 1000000.0, 10000000.0, 100000000.0,\n                         1000000000.0],\n                     class_weight=&#x27;balanced&#x27;,\n                     cv=StratifiedKFold(n_splits=3, random_state=42, shuffle=True),\n                     l1_ratios=[0.0, 0.2, 0.4, 0.6000000000000001, 0.8],\n                     max_iter=15000, multi_class=&#x27;multinomial&#x27;, n_jobs=-1,\n                     penalty=&#x27;elasticnet&#x27;, random_state=42, scoring=&#x27;accuracy&#x27;,\n                     solver=&#x27;saga&#x27;)</pre></div></div></div></div></div></div></div>"
     },
     "execution_count": 19,
     "metadata": {},
     "output_type": "execute_result"
    }
   ]
  },
  {
   "cell_type": "code",
   "execution_count": 20,
   "outputs": [
    {
     "name": "stdout",
     "output_type": "stream",
     "text": [
      "Max test accuracy_score: 0.9032258064516129\n",
      "classification_report:\n",
      "               precision    recall  f1-score   support\n",
      "\n",
      "           0       0.86      1.00      0.93        19\n",
      "           1       1.00      0.86      0.92        42\n",
      "           2       0.25      1.00      0.40         1\n",
      "\n",
      "    accuracy                           0.90        62\n",
      "   macro avg       0.70      0.95      0.75        62\n",
      "weighted avg       0.95      0.90      0.92        62\n",
      "\n"
     ]
    },
    {
     "data": {
      "text/plain": "<Figure size 640x480 with 1 Axes>",
      "image/png": "[encoded data removed]"
     },
     "metadata": {},
     "output_type": "display_data"
    }
   ],
   "source": [
    "seve_best_model(models_dict, logit_reg_mult, 'LogisticRegressionCV', X_val, y_val)"
   ],
   "metadata": {
    "collapsed": false,
    "pycharm": {
     "name": "#%%\n"
    }
   }
  },
  {
   "cell_type": "markdown",
   "source": [
    "# RandomForestClassifier"
   ],
   "metadata": {
    "collapsed": false
   }
  },
  {
   "cell_type": "code",
   "execution_count": 21,
   "metadata": {},
   "outputs": [],
   "source": [
    "from sklearn.ensemble import RandomForestClassifier"
   ]
  },
  {
   "cell_type": "code",
   "execution_count": 22,
   "outputs": [
    {
     "data": {
      "text/plain": "Pipeline(steps=[('preprocessor',\n                 ColumnTransformer(transformers=[('num',\n                                                  Pipeline(steps=[('imputer',\n                                                                   SimpleImputer(strategy='median')),\n                                                                  ('scaler',\n                                                                   StandardScaler())]),\n                                                  ['Depth', 'Gross', 'Netpay',\n                                                   'Porosity',\n                                                   'Permeability']),\n                                                 ('cat',\n                                                  OneHotEncoder(handle_unknown='ignore'),\n                                                  ['Tectonic_regime',\n                                                   'Hydrocarbon_type',\n                                                   'Reservoir_status',\n                                                   'Structural_setting',\n                                                   'Period', 'Lithology'])])),\n                ('classifier', RandomForestClassifier())])",
      "text/html": "<style>#sk-container-id-2 {color: black;background-color: white;}#sk-container-id-2 pre{padding: 0;}#sk-container-id-2 div.sk-toggleable {background-color: white;}#sk-container-id-2 label.sk-toggleable__label {cursor: pointer;display: block;width: 100%;margin-bottom: 0;padding: 0.3em;box-sizing: border-box;text-align: center;}#sk-container-id-2 label.sk-toggleable__label-arrow:before {content: \"▸\";float: left;margin-right: 0.25em;color: #696969;}#sk-container-id-2 label.sk-toggleable__label-arrow:hover:before {color: black;}#sk-container-id-2 div.sk-estimator:hover label.sk-toggleable__label-arrow:before {color: black;}#sk-container-id-2 div.sk-toggleable__content {max-height: 0;max-width: 0;overflow: hidden;text-align: left;background-color: #f0f8ff;}#sk-container-id-2 div.sk-toggleable__content pre {margin: 0.2em;color: black;border-radius: 0.25em;background-color: #f0f8ff;}#sk-container-id-2 input.sk-toggleable__control:checked~div.sk-toggleable__content {max-height: 200px;max-width: 100%;overflow: auto;}#sk-container-id-2 input.sk-toggleable__control:checked~label.sk-toggleable__label-arrow:before {content: \"▾\";}#sk-container-id-2 div.sk-estimator input.sk-toggleable__control:checked~label.sk-toggleable__label {background-color: #d4ebff;}#sk-container-id-2 div.sk-label input.sk-toggleable__control:checked~label.sk-toggleable__label {background-color: #d4ebff;}#sk-container-id-2 input.sk-hidden--visually {border: 0;clip: rect(1px 1px 1px 1px);clip: rect(1px, 1px, 1px, 1px);height: 1px;margin: -1px;overflow: hidden;padding: 0;position: absolute;width: 1px;}#sk-container-id-2 div.sk-estimator {font-family: monospace;background-color: #f0f8ff;border: 1px dotted black;border-radius: 0.25em;box-sizing: border-box;margin-bottom: 0.5em;}#sk-container-id-2 div.sk-estimator:hover {background-color: #d4ebff;}#sk-container-id-2 div.sk-parallel-item::after {content: \"\";width: 100%;border-bottom: 1px solid gray;flex-grow: 1;}#sk-container-id-2 div.sk-label:hover label.sk-toggleable__label {background-color: #d4ebff;}#sk-container-id-2 div.sk-serial::before {content: \"\";position: absolute;border-left: 1px solid gray;box-sizing: border-box;top: 0;bottom: 0;left: 50%;z-index: 0;}#sk-container-id-2 div.sk-serial {display: flex;flex-direction: column;align-items: center;background-color: white;padding-right: 0.2em;padding-left: 0.2em;position: relative;}#sk-container-id-2 div.sk-item {position: relative;z-index: 1;}#sk-container-id-2 div.sk-parallel {display: flex;align-items: stretch;justify-content: center;background-color: white;position: relative;}#sk-container-id-2 div.sk-item::before, #sk-container-id-2 div.sk-parallel-item::before {content: \"\";position: absolute;border-left: 1px solid gray;box-sizing: border-box;top: 0;bottom: 0;left: 50%;z-index: -1;}#sk-container-id-2 div.sk-parallel-item {display: flex;flex-direction: column;z-index: 1;position: relative;background-color: white;}#sk-container-id-2 div.sk-parallel-item:first-child::after {align-self: flex-end;width: 50%;}#sk-container-id-2 div.sk-parallel-item:last-child::after {align-self: flex-start;width: 50%;}#sk-container-id-2 div.sk-parallel-item:only-child::after {width: 0;}#sk-container-id-2 div.sk-dashed-wrapped {border: 1px dashed gray;margin: 0 0.4em 0.5em 0.4em;box-sizing: border-box;padding-bottom: 0.4em;background-color: white;}#sk-container-id-2 div.sk-label label {font-family: monospace;font-weight: bold;display: inline-block;line-height: 1.2em;}#sk-container-id-2 div.sk-label-container {text-align: center;}#sk-container-id-2 div.sk-container {/* jupyter's `normalize.less` sets `[hidden] { display: none; }` but bootstrap.min.css set `[hidden] { display: none !important; }` so we also need the `!important` here to be able to override the default hidden behavior on the sphinx rendered scikit-learn.org. See: https://github.com/scikit-learn/scikit-learn/issues/21755 */display: inline-block !important;position: relative;}#sk-container-id-2 div.sk-text-repr-fallback {display: none;}</style><div id=\"sk-container-id-2\" class=\"sk-top-container\"><div class=\"sk-text-repr-fallback\"><pre>Pipeline(steps=[(&#x27;preprocessor&#x27;,\n                 ColumnTransformer(transformers=[(&#x27;num&#x27;,\n                                                  Pipeline(steps=[(&#x27;imputer&#x27;,\n                                                                   SimpleImputer(strategy=&#x27;median&#x27;)),\n                                                                  (&#x27;scaler&#x27;,\n                                                                   StandardScaler())]),\n                                                  [&#x27;Depth&#x27;, &#x27;Gross&#x27;, &#x27;Netpay&#x27;,\n                                                   &#x27;Porosity&#x27;,\n                                                   &#x27;Permeability&#x27;]),\n                                                 (&#x27;cat&#x27;,\n                                                  OneHotEncoder(handle_unknown=&#x27;ignore&#x27;),\n                                                  [&#x27;Tectonic_regime&#x27;,\n                                                   &#x27;Hydrocarbon_type&#x27;,\n                                                   &#x27;Reservoir_status&#x27;,\n                                                   &#x27;Structural_setting&#x27;,\n                                                   &#x27;Period&#x27;, &#x27;Lithology&#x27;])])),\n                (&#x27;classifier&#x27;, RandomForestClassifier())])</pre><b>In a Jupyter environment, please rerun this cell to show the HTML representation or trust the notebook. <br />On GitHub, the HTML representation is unable to render, please try loading this page with nbviewer.org.</b></div><div class=\"sk-container\" hidden><div class=\"sk-item sk-dashed-wrapped\"><div class=\"sk-label-container\"><div class=\"sk-label sk-toggleable\"><input class=\"sk-toggleable__control sk-hidden--visually\" id=\"sk-estimator-id-9\" type=\"checkbox\" ><label for=\"sk-estimator-id-9\" class=\"sk-toggleable__label sk-toggleable__label-arrow\">Pipeline</label><div class=\"sk-toggleable__content\"><pre>Pipeline(steps=[(&#x27;preprocessor&#x27;,\n                 ColumnTransformer(transformers=[(&#x27;num&#x27;,\n                                                  Pipeline(steps=[(&#x27;imputer&#x27;,\n                                                                   SimpleImputer(strategy=&#x27;median&#x27;)),\n                                                                  (&#x27;scaler&#x27;,\n                                                                   StandardScaler())]),\n                                                  [&#x27;Depth&#x27;, &#x27;Gross&#x27;, &#x27;Netpay&#x27;,\n                                                   &#x27;Porosity&#x27;,\n                                                   &#x27;Permeability&#x27;]),\n                                                 (&#x27;cat&#x27;,\n                                                  OneHotEncoder(handle_unknown=&#x27;ignore&#x27;),\n                                                  [&#x27;Tectonic_regime&#x27;,\n                                                   &#x27;Hydrocarbon_type&#x27;,\n                                                   &#x27;Reservoir_status&#x27;,\n                                                   &#x27;Structural_setting&#x27;,\n                                                   &#x27;Period&#x27;, &#x27;Lithology&#x27;])])),\n                (&#x27;classifier&#x27;, RandomForestClassifier())])</pre></div></div></div><div class=\"sk-serial\"><div class=\"sk-item sk-dashed-wrapped\"><div class=\"sk-label-container\"><div class=\"sk-label sk-toggleable\"><input class=\"sk-toggleable__control sk-hidden--visually\" id=\"sk-estimator-id-10\" type=\"checkbox\" ><label for=\"sk-estimator-id-10\" class=\"sk-toggleable__label sk-toggleable__label-arrow\">preprocessor: ColumnTransformer</label><div class=\"sk-toggleable__content\"><pre>ColumnTransformer(transformers=[(&#x27;num&#x27;,\n                                 Pipeline(steps=[(&#x27;imputer&#x27;,\n                                                  SimpleImputer(strategy=&#x27;median&#x27;)),\n                                                 (&#x27;scaler&#x27;, StandardScaler())]),\n                                 [&#x27;Depth&#x27;, &#x27;Gross&#x27;, &#x27;Netpay&#x27;, &#x27;Porosity&#x27;,\n                                  &#x27;Permeability&#x27;]),\n                                (&#x27;cat&#x27;, OneHotEncoder(handle_unknown=&#x27;ignore&#x27;),\n                                 [&#x27;Tectonic_regime&#x27;, &#x27;Hydrocarbon_type&#x27;,\n                                  &#x27;Reservoir_status&#x27;, &#x27;Structural_setting&#x27;,\n                                  &#x27;Period&#x27;, &#x27;Lithology&#x27;])])</pre></div></div></div><div class=\"sk-parallel\"><div class=\"sk-parallel-item\"><div class=\"sk-item\"><div class=\"sk-label-container\"><div class=\"sk-label sk-toggleable\"><input class=\"sk-toggleable__control sk-hidden--visually\" id=\"sk-estimator-id-11\" type=\"checkbox\" ><label for=\"sk-estimator-id-11\" class=\"sk-toggleable__label sk-toggleable__label-arrow\">num</label><div class=\"sk-toggleable__content\"><pre>[&#x27;Depth&#x27;, &#x27;Gross&#x27;, &#x27;Netpay&#x27;, &#x27;Porosity&#x27;, &#x27;Permeability&#x27;]</pre></div></div></div><div class=\"sk-serial\"><div class=\"sk-item\"><div class=\"sk-serial\"><div class=\"sk-item\"><div class=\"sk-estimator sk-toggleable\"><input class=\"sk-toggleable__control sk-hidden--visually\" id=\"sk-estimator-id-12\" type=\"checkbox\" ><label for=\"sk-estimator-id-12\" class=\"sk-toggleable__label sk-toggleable__label-arrow\">SimpleImputer</label><div class=\"sk-toggleable__content\"><pre>SimpleImputer(strategy=&#x27;median&#x27;)</pre></div></div></div><div class=\"sk-item\"><div class=\"sk-estimator sk-toggleable\"><input class=\"sk-toggleable__control sk-hidden--visually\" id=\"sk-estimator-id-13\" type=\"checkbox\" ><label for=\"sk-estimator-id-13\" class=\"sk-toggleable__label sk-toggleable__label-arrow\">StandardScaler</label><div class=\"sk-toggleable__content\"><pre>StandardScaler()</pre></div></div></div></div></div></div></div></div><div class=\"sk-parallel-item\"><div class=\"sk-item\"><div class=\"sk-label-container\"><div class=\"sk-label sk-toggleable\"><input class=\"sk-toggleable__control sk-hidden--visually\" id=\"sk-estimator-id-14\" type=\"checkbox\" ><label for=\"sk-estimator-id-14\" class=\"sk-toggleable__label sk-toggleable__label-arrow\">cat</label><div class=\"sk-toggleable__content\"><pre>[&#x27;Tectonic_regime&#x27;, &#x27;Hydrocarbon_type&#x27;, &#x27;Reservoir_status&#x27;, &#x27;Structural_setting&#x27;, &#x27;Period&#x27;, &#x27;Lithology&#x27;]</pre></div></div></div><div class=\"sk-serial\"><div class=\"sk-item\"><div class=\"sk-estimator sk-toggleable\"><input class=\"sk-toggleable__control sk-hidden--visually\" id=\"sk-estimator-id-15\" type=\"checkbox\" ><label for=\"sk-estimator-id-15\" class=\"sk-toggleable__label sk-toggleable__label-arrow\">OneHotEncoder</label><div class=\"sk-toggleable__content\"><pre>OneHotEncoder(handle_unknown=&#x27;ignore&#x27;)</pre></div></div></div></div></div></div></div></div><div class=\"sk-item\"><div class=\"sk-estimator sk-toggleable\"><input class=\"sk-toggleable__control sk-hidden--visually\" id=\"sk-estimator-id-16\" type=\"checkbox\" ><label for=\"sk-estimator-id-16\" class=\"sk-toggleable__label sk-toggleable__label-arrow\">RandomForestClassifier</label><div class=\"sk-toggleable__content\"><pre>RandomForestClassifier()</pre></div></div></div></div></div></div></div>"
     },
     "execution_count": 22,
     "metadata": {},
     "output_type": "execute_result"
    }
   ],
   "source": [
    "# Define preproccessors\n",
    "numeric_transformer = Pipeline(\n",
    "    steps=[(\"imputer\", SimpleImputer(strategy=\"median\")),\n",
    "           (\"scaler\", StandardScaler())]\n",
    ")\n",
    "preprocessor = ColumnTransformer(\n",
    "    transformers=[\n",
    "        (\"num\", numeric_transformer, num_cols),\n",
    "        (\"cat\", OneHotEncoder(handle_unknown=\"ignore\"), cat_cols),\n",
    "    ]\n",
    ")\n",
    "\n",
    "rand_forest_mult = Pipeline(\n",
    "    steps=[(\"preprocessor\", preprocessor),\n",
    "           (\"classifier\", RandomForestClassifier())]\n",
    ")\n",
    "\n",
    "rand_forest_mult.fit(X_train, y_train)"
   ],
   "metadata": {
    "collapsed": false,
    "pycharm": {
     "name": "#%%\n"
    }
   }
  },
  {
   "cell_type": "code",
   "execution_count": 23,
   "outputs": [
    {
     "name": "stdout",
     "output_type": "stream",
     "text": [
      "Max test accuracy_score: 0.8225806451612904\n",
      "classification_report:\n",
      "               precision    recall  f1-score   support\n",
      "\n",
      "           0       0.76      0.68      0.72        19\n",
      "           1       0.84      0.90      0.87        42\n",
      "           2       0.00      0.00      0.00         1\n",
      "\n",
      "    accuracy                           0.82        62\n",
      "   macro avg       0.54      0.53      0.53        62\n",
      "weighted avg       0.81      0.82      0.81        62\n",
      "\n"
     ]
    },
    {
     "data": {
      "text/plain": "<Figure size 640x480 with 1 Axes>",
      "image/png": "[encoded data removed]"
     },
     "metadata": {},
     "output_type": "display_data"
    }
   ],
   "source": [
    "seve_best_model(models_dict, rand_forest_mult, 'RandomForestClassifier', X_val, y_val)"
   ],
   "metadata": {
    "collapsed": false,
    "pycharm": {
     "name": "#%%\n"
    }
   }
  },
  {
   "cell_type": "markdown",
   "source": [
    "# XGBClassifier"
   ],
   "metadata": {
    "collapsed": false
   }
  },
  {
   "cell_type": "code",
   "execution_count": 24,
   "outputs": [],
   "source": [
    "# https://www.kaggle.com/stuarthallows/using-xgboost-with-scikit-learn"
   ],
   "metadata": {
    "collapsed": false,
    "pycharm": {
     "name": "#%%\n"
    }
   }
  },
  {
   "cell_type": "code",
   "execution_count": 25,
   "outputs": [
    {
     "name": "stdout",
     "output_type": "stream",
     "text": [
      "Fitting 3 folds for each of 144 candidates, totalling 432 fits\n"
     ]
    },
    {
     "data": {
      "text/plain": "GridSearchCV(cv=3,\n             estimator=Pipeline(steps=[('preprocessor',\n                                        ColumnTransformer(transformers=[('num',\n                                                                         Pipeline(steps=[('imputer',\n                                                                                          SimpleImputer(strategy='median')),\n                                                                                         ('scaler',\n                                                                                          StandardScaler())]),\n                                                                         ['Depth',\n                                                                          'Gross',\n                                                                          'Netpay',\n                                                                          'Porosity',\n                                                                          'Permeability']),\n                                                                        ('cat',\n                                                                         OneHotEncoder(handle_unknown='ignore'),\n                                                                         ['Tectonic_regime',\n                                                                          'Hydrocarbon_type',\n                                                                          'Reservoir_status',\n                                                                          'St...\n                                                      n_estimators=100,\n                                                      n_jobs=None,\n                                                      num_parallel_tree=None,\n                                                      objective='multi:softprob',\n                                                      predictor=None, ...))]),\n             n_jobs=-1,\n             param_grid={'classifier__colsample_bytree': [0.7, 0.3],\n                         'classifier__gamma': [0, 0.5],\n                         'classifier__learning_rate': [0.1, 0.03, 0.3],\n                         'classifier__max_depth': [2, 6],\n                         'classifier__n_estimators': [100, 300, 500],\n                         'classifier__subsample': [0.6, 0.4]},\n             verbose=1)",
      "text/html": "<style>#sk-container-id-3 {color: black;background-color: white;}#sk-container-id-3 pre{padding: 0;}#sk-container-id-3 div.sk-toggleable {background-color: white;}#sk-container-id-3 label.sk-toggleable__label {cursor: pointer;display: block;width: 100%;margin-bottom: 0;padding: 0.3em;box-sizing: border-box;text-align: center;}#sk-container-id-3 label.sk-toggleable__label-arrow:before {content: \"▸\";float: left;margin-right: 0.25em;color: #696969;}#sk-container-id-3 label.sk-toggleable__label-arrow:hover:before {color: black;}#sk-container-id-3 div.sk-estimator:hover label.sk-toggleable__label-arrow:before {color: black;}#sk-container-id-3 div.sk-toggleable__content {max-height: 0;max-width: 0;overflow: hidden;text-align: left;background-color: #f0f8ff;}#sk-container-id-3 div.sk-toggleable__content pre {margin: 0.2em;color: black;border-radius: 0.25em;background-color: #f0f8ff;}#sk-container-id-3 input.sk-toggleable__control:checked~div.sk-toggleable__content {max-height: 200px;max-width: 100%;overflow: auto;}#sk-container-id-3 input.sk-toggleable__control:checked~label.sk-toggleable__label-arrow:before {content: \"▾\";}#sk-container-id-3 div.sk-estimator input.sk-toggleable__control:checked~label.sk-toggleable__label {background-color: #d4ebff;}#sk-container-id-3 div.sk-label input.sk-toggleable__control:checked~label.sk-toggleable__label {background-color: #d4ebff;}#sk-container-id-3 input.sk-hidden--visually {border: 0;clip: rect(1px 1px 1px 1px);clip: rect(1px, 1px, 1px, 1px);height: 1px;margin: -1px;overflow: hidden;padding: 0;position: absolute;width: 1px;}#sk-container-id-3 div.sk-estimator {font-family: monospace;background-color: #f0f8ff;border: 1px dotted black;border-radius: 0.25em;box-sizing: border-box;margin-bottom: 0.5em;}#sk-container-id-3 div.sk-estimator:hover {background-color: #d4ebff;}#sk-container-id-3 div.sk-parallel-item::after {content: \"\";width: 100%;border-bottom: 1px solid gray;flex-grow: 1;}#sk-container-id-3 div.sk-label:hover label.sk-toggleable__label {background-color: #d4ebff;}#sk-container-id-3 div.sk-serial::before {content: \"\";position: absolute;border-left: 1px solid gray;box-sizing: border-box;top: 0;bottom: 0;left: 50%;z-index: 0;}#sk-container-id-3 div.sk-serial {display: flex;flex-direction: column;align-items: center;background-color: white;padding-right: 0.2em;padding-left: 0.2em;position: relative;}#sk-container-id-3 div.sk-item {position: relative;z-index: 1;}#sk-container-id-3 div.sk-parallel {display: flex;align-items: stretch;justify-content: center;background-color: white;position: relative;}#sk-container-id-3 div.sk-item::before, #sk-container-id-3 div.sk-parallel-item::before {content: \"\";position: absolute;border-left: 1px solid gray;box-sizing: border-box;top: 0;bottom: 0;left: 50%;z-index: -1;}#sk-container-id-3 div.sk-parallel-item {display: flex;flex-direction: column;z-index: 1;position: relative;background-color: white;}#sk-container-id-3 div.sk-parallel-item:first-child::after {align-self: flex-end;width: 50%;}#sk-container-id-3 div.sk-parallel-item:last-child::after {align-self: flex-start;width: 50%;}#sk-container-id-3 div.sk-parallel-item:only-child::after {width: 0;}#sk-container-id-3 div.sk-dashed-wrapped {border: 1px dashed gray;margin: 0 0.4em 0.5em 0.4em;box-sizing: border-box;padding-bottom: 0.4em;background-color: white;}#sk-container-id-3 div.sk-label label {font-family: monospace;font-weight: bold;display: inline-block;line-height: 1.2em;}#sk-container-id-3 div.sk-label-container {text-align: center;}#sk-container-id-3 div.sk-container {/* jupyter's `normalize.less` sets `[hidden] { display: none; }` but bootstrap.min.css set `[hidden] { display: none !important; }` so we also need the `!important` here to be able to override the default hidden behavior on the sphinx rendered scikit-learn.org. See: https://github.com/scikit-learn/scikit-learn/issues/21755 */display: inline-block !important;position: relative;}#sk-container-id-3 div.sk-text-repr-fallback {display: none;}</style><div id=\"sk-container-id-3\" class=\"sk-top-container\"><div class=\"sk-text-repr-fallback\"><pre>GridSearchCV(cv=3,\n             estimator=Pipeline(steps=[(&#x27;preprocessor&#x27;,\n                                        ColumnTransformer(transformers=[(&#x27;num&#x27;,\n                                                                         Pipeline(steps=[(&#x27;imputer&#x27;,\n                                                                                          SimpleImputer(strategy=&#x27;median&#x27;)),\n                                                                                         (&#x27;scaler&#x27;,\n                                                                                          StandardScaler())]),\n                                                                         [&#x27;Depth&#x27;,\n                                                                          &#x27;Gross&#x27;,\n                                                                          &#x27;Netpay&#x27;,\n                                                                          &#x27;Porosity&#x27;,\n                                                                          &#x27;Permeability&#x27;]),\n                                                                        (&#x27;cat&#x27;,\n                                                                         OneHotEncoder(handle_unknown=&#x27;ignore&#x27;),\n                                                                         [&#x27;Tectonic_regime&#x27;,\n                                                                          &#x27;Hydrocarbon_type&#x27;,\n                                                                          &#x27;Reservoir_status&#x27;,\n                                                                          &#x27;St...\n                                                      n_estimators=100,\n                                                      n_jobs=None,\n                                                      num_parallel_tree=None,\n                                                      objective=&#x27;multi:softprob&#x27;,\n                                                      predictor=None, ...))]),\n             n_jobs=-1,\n             param_grid={&#x27;classifier__colsample_bytree&#x27;: [0.7, 0.3],\n                         &#x27;classifier__gamma&#x27;: [0, 0.5],\n                         &#x27;classifier__learning_rate&#x27;: [0.1, 0.03, 0.3],\n                         &#x27;classifier__max_depth&#x27;: [2, 6],\n                         &#x27;classifier__n_estimators&#x27;: [100, 300, 500],\n                         &#x27;classifier__subsample&#x27;: [0.6, 0.4]},\n             verbose=1)</pre><b>In a Jupyter environment, please rerun this cell to show the HTML representation or trust the notebook. <br />On GitHub, the HTML representation is unable to render, please try loading this page with nbviewer.org.</b></div><div class=\"sk-container\" hidden><div class=\"sk-item sk-dashed-wrapped\"><div class=\"sk-label-container\"><div class=\"sk-label sk-toggleable\"><input class=\"sk-toggleable__control sk-hidden--visually\" id=\"sk-estimator-id-17\" type=\"checkbox\" ><label for=\"sk-estimator-id-17\" class=\"sk-toggleable__label sk-toggleable__label-arrow\">GridSearchCV</label><div class=\"sk-toggleable__content\"><pre>GridSearchCV(cv=3,\n             estimator=Pipeline(steps=[(&#x27;preprocessor&#x27;,\n                                        ColumnTransformer(transformers=[(&#x27;num&#x27;,\n                                                                         Pipeline(steps=[(&#x27;imputer&#x27;,\n                                                                                          SimpleImputer(strategy=&#x27;median&#x27;)),\n                                                                                         (&#x27;scaler&#x27;,\n                                                                                          StandardScaler())]),\n                                                                         [&#x27;Depth&#x27;,\n                                                                          &#x27;Gross&#x27;,\n                                                                          &#x27;Netpay&#x27;,\n                                                                          &#x27;Porosity&#x27;,\n                                                                          &#x27;Permeability&#x27;]),\n                                                                        (&#x27;cat&#x27;,\n                                                                         OneHotEncoder(handle_unknown=&#x27;ignore&#x27;),\n                                                                         [&#x27;Tectonic_regime&#x27;,\n                                                                          &#x27;Hydrocarbon_type&#x27;,\n                                                                          &#x27;Reservoir_status&#x27;,\n                                                                          &#x27;St...\n                                                      n_estimators=100,\n                                                      n_jobs=None,\n                                                      num_parallel_tree=None,\n                                                      objective=&#x27;multi:softprob&#x27;,\n                                                      predictor=None, ...))]),\n             n_jobs=-1,\n             param_grid={&#x27;classifier__colsample_bytree&#x27;: [0.7, 0.3],\n                         &#x27;classifier__gamma&#x27;: [0, 0.5],\n                         &#x27;classifier__learning_rate&#x27;: [0.1, 0.03, 0.3],\n                         &#x27;classifier__max_depth&#x27;: [2, 6],\n                         &#x27;classifier__n_estimators&#x27;: [100, 300, 500],\n                         &#x27;classifier__subsample&#x27;: [0.6, 0.4]},\n             verbose=1)</pre></div></div></div><div class=\"sk-parallel\"><div class=\"sk-parallel-item\"><div class=\"sk-item\"><div class=\"sk-label-container\"><div class=\"sk-label sk-toggleable\"><input class=\"sk-toggleable__control sk-hidden--visually\" id=\"sk-estimator-id-18\" type=\"checkbox\" ><label for=\"sk-estimator-id-18\" class=\"sk-toggleable__label sk-toggleable__label-arrow\">estimator: Pipeline</label><div class=\"sk-toggleable__content\"><pre>Pipeline(steps=[(&#x27;preprocessor&#x27;,\n                 ColumnTransformer(transformers=[(&#x27;num&#x27;,\n                                                  Pipeline(steps=[(&#x27;imputer&#x27;,\n                                                                   SimpleImputer(strategy=&#x27;median&#x27;)),\n                                                                  (&#x27;scaler&#x27;,\n                                                                   StandardScaler())]),\n                                                  [&#x27;Depth&#x27;, &#x27;Gross&#x27;, &#x27;Netpay&#x27;,\n                                                   &#x27;Porosity&#x27;,\n                                                   &#x27;Permeability&#x27;]),\n                                                 (&#x27;cat&#x27;,\n                                                  OneHotEncoder(handle_unknown=&#x27;ignore&#x27;),\n                                                  [&#x27;Tectonic_regime&#x27;,\n                                                   &#x27;Hydrocarbon_type&#x27;,\n                                                   &#x27;Reservoir_status&#x27;,\n                                                   &#x27;Structural_setting&#x27;,\n                                                   &#x27;Period&#x27;, &#x27;...\n                               grow_policy=None, importance_type=None,\n                               interaction_constraints=None, learning_rate=None,\n                               max_bin=None, max_cat_threshold=None,\n                               max_cat_to_onehot=None, max_delta_step=None,\n                               max_depth=None, max_leaves=None,\n                               min_child_weight=None, missing=nan,\n                               monotone_constraints=None, n_estimators=100,\n                               n_jobs=None, num_parallel_tree=None,\n                               objective=&#x27;multi:softprob&#x27;, predictor=None, ...))])</pre></div></div></div><div class=\"sk-serial\"><div class=\"sk-item\"><div class=\"sk-serial\"><div class=\"sk-item sk-dashed-wrapped\"><div class=\"sk-label-container\"><div class=\"sk-label sk-toggleable\"><input class=\"sk-toggleable__control sk-hidden--visually\" id=\"sk-estimator-id-19\" type=\"checkbox\" ><label for=\"sk-estimator-id-19\" class=\"sk-toggleable__label sk-toggleable__label-arrow\">preprocessor: ColumnTransformer</label><div class=\"sk-toggleable__content\"><pre>ColumnTransformer(transformers=[(&#x27;num&#x27;,\n                                 Pipeline(steps=[(&#x27;imputer&#x27;,\n                                                  SimpleImputer(strategy=&#x27;median&#x27;)),\n                                                 (&#x27;scaler&#x27;, StandardScaler())]),\n                                 [&#x27;Depth&#x27;, &#x27;Gross&#x27;, &#x27;Netpay&#x27;, &#x27;Porosity&#x27;,\n                                  &#x27;Permeability&#x27;]),\n                                (&#x27;cat&#x27;, OneHotEncoder(handle_unknown=&#x27;ignore&#x27;),\n                                 [&#x27;Tectonic_regime&#x27;, &#x27;Hydrocarbon_type&#x27;,\n                                  &#x27;Reservoir_status&#x27;, &#x27;Structural_setting&#x27;,\n                                  &#x27;Period&#x27;, &#x27;Lithology&#x27;])])</pre></div></div></div><div class=\"sk-parallel\"><div class=\"sk-parallel-item\"><div class=\"sk-item\"><div class=\"sk-label-container\"><div class=\"sk-label sk-toggleable\"><input class=\"sk-toggleable__control sk-hidden--visually\" id=\"sk-estimator-id-20\" type=\"checkbox\" ><label for=\"sk-estimator-id-20\" class=\"sk-toggleable__label sk-toggleable__label-arrow\">num</label><div class=\"sk-toggleable__content\"><pre>[&#x27;Depth&#x27;, &#x27;Gross&#x27;, &#x27;Netpay&#x27;, &#x27;Porosity&#x27;, &#x27;Permeability&#x27;]</pre></div></div></div><div class=\"sk-serial\"><div class=\"sk-item\"><div class=\"sk-serial\"><div class=\"sk-item\"><div class=\"sk-estimator sk-toggleable\"><input class=\"sk-toggleable__control sk-hidden--visually\" id=\"sk-estimator-id-21\" type=\"checkbox\" ><label for=\"sk-estimator-id-21\" class=\"sk-toggleable__label sk-toggleable__label-arrow\">SimpleImputer</label><div class=\"sk-toggleable__content\"><pre>SimpleImputer(strategy=&#x27;median&#x27;)</pre></div></div></div><div class=\"sk-item\"><div class=\"sk-estimator sk-toggleable\"><input class=\"sk-toggleable__control sk-hidden--visually\" id=\"sk-estimator-id-22\" type=\"checkbox\" ><label for=\"sk-estimator-id-22\" class=\"sk-toggleable__label sk-toggleable__label-arrow\">StandardScaler</label><div class=\"sk-toggleable__content\"><pre>StandardScaler()</pre></div></div></div></div></div></div></div></div><div class=\"sk-parallel-item\"><div class=\"sk-item\"><div class=\"sk-label-container\"><div class=\"sk-label sk-toggleable\"><input class=\"sk-toggleable__control sk-hidden--visually\" id=\"sk-estimator-id-23\" type=\"checkbox\" ><label for=\"sk-estimator-id-23\" class=\"sk-toggleable__label sk-toggleable__label-arrow\">cat</label><div class=\"sk-toggleable__content\"><pre>[&#x27;Tectonic_regime&#x27;, &#x27;Hydrocarbon_type&#x27;, &#x27;Reservoir_status&#x27;, &#x27;Structural_setting&#x27;, &#x27;Period&#x27;, &#x27;Lithology&#x27;]</pre></div></div></div><div class=\"sk-serial\"><div class=\"sk-item\"><div class=\"sk-estimator sk-toggleable\"><input class=\"sk-toggleable__control sk-hidden--visually\" id=\"sk-estimator-id-24\" type=\"checkbox\" ><label for=\"sk-estimator-id-24\" class=\"sk-toggleable__label sk-toggleable__label-arrow\">OneHotEncoder</label><div class=\"sk-toggleable__content\"><pre>OneHotEncoder(handle_unknown=&#x27;ignore&#x27;)</pre></div></div></div></div></div></div></div></div><div class=\"sk-item\"><div class=\"sk-estimator sk-toggleable\"><input class=\"sk-toggleable__control sk-hidden--visually\" id=\"sk-estimator-id-25\" type=\"checkbox\" ><label for=\"sk-estimator-id-25\" class=\"sk-toggleable__label sk-toggleable__label-arrow\">XGBClassifier</label><div class=\"sk-toggleable__content\"><pre>XGBClassifier(base_score=None, booster=None, callbacks=None,\n              colsample_bylevel=None, colsample_bynode=None,\n              colsample_bytree=None, early_stopping_rounds=None,\n              enable_categorical=False, eval_metric=None, feature_types=None,\n              gamma=None, gpu_id=None, grow_policy=None, importance_type=None,\n              interaction_constraints=None, learning_rate=None, max_bin=None,\n              max_cat_threshold=None, max_cat_to_onehot=None,\n              max_delta_step=None, max_depth=None, max_leaves=None,\n              min_child_weight=None, missing=nan, monotone_constraints=None,\n              n_estimators=100, n_jobs=None, num_parallel_tree=None,\n              objective=&#x27;multi:softprob&#x27;, predictor=None, ...)</pre></div></div></div></div></div></div></div></div></div></div></div></div>"
     },
     "execution_count": 25,
     "metadata": {},
     "output_type": "execute_result"
    }
   ],
   "source": [
    "import xgboost as xgb\n",
    "\n",
    "# Define preproccessors\n",
    "numeric_transformer = Pipeline(\n",
    "    steps=[(\"imputer\", SimpleImputer(strategy=\"median\")),\n",
    "           (\"scaler\", StandardScaler())]\n",
    ")\n",
    "preprocessor = ColumnTransformer(\n",
    "    transformers=[\n",
    "        (\"num\", numeric_transformer, num_cols),\n",
    "        (\"cat\", OneHotEncoder(handle_unknown=\"ignore\"), cat_cols),\n",
    "    ]\n",
    ")\n",
    "\n",
    "\n",
    "xgb_cls = xgb.XGBClassifier(objective=\"multi:softprob\", random_state=42)\n",
    "\n",
    "xgb_model = Pipeline(\n",
    "    steps=[(\"preprocessor\", preprocessor),\n",
    "           (\"classifier\", xgb_cls)]\n",
    ")\n",
    "\n",
    "params = {\n",
    "    \"classifier__colsample_bytree\": [0.7, 0.3],\n",
    "    \"classifier__gamma\": [0, 0.5],\n",
    "    \"classifier__learning_rate\": [0.1, 0.03, 0.3], # default 0.1\n",
    "    \"classifier__max_depth\": [2, 6], # default 3\n",
    "    \"classifier__n_estimators\": [100, 300, 500], # default 100\n",
    "    \"classifier__subsample\": [0.6, 0.4]\n",
    "}\n",
    "\n",
    "xgb_mult = GridSearchCV(xgb_model,\n",
    "                    param_grid=params,\n",
    "                    cv=3,\n",
    "                    verbose=1,\n",
    "                    n_jobs=-1)\n",
    "xgb_mult.fit(X_train, y_train)"
   ],
   "metadata": {
    "collapsed": false,
    "pycharm": {
     "name": "#%%\n"
    }
   }
  },
  {
   "cell_type": "code",
   "execution_count": 26,
   "outputs": [
    {
     "name": "stdout",
     "output_type": "stream",
     "text": [
      "Max test accuracy_score: 0.8064516129032258\n",
      "classification_report:\n",
      "               precision    recall  f1-score   support\n",
      "\n",
      "           0       0.67      0.74      0.70        19\n",
      "           1       0.88      0.86      0.87        42\n",
      "           2       0.00      0.00      0.00         1\n",
      "\n",
      "    accuracy                           0.81        62\n",
      "   macro avg       0.51      0.53      0.52        62\n",
      "weighted avg       0.80      0.81      0.80        62\n",
      "\n"
     ]
    },
    {
     "data": {
      "text/plain": "<Figure size 640x480 with 1 Axes>",
      "image/png": "[encoded data removed]"
     },
     "metadata": {},
     "output_type": "display_data"
    }
   ],
   "source": [
    "seve_best_model(models_dict, xgb_mult, 'XGBClassifier', X_val, y_val)"
   ],
   "metadata": {
    "collapsed": false,
    "pycharm": {
     "name": "#%%\n"
    }
   }
  },
  {
   "cell_type": "markdown",
   "source": [
    "# Binary classification without last class\n",
    "\n",
    "may be it gets us overall higher score"
   ],
   "metadata": {
    "collapsed": false
   }
  },
  {
   "cell_type": "markdown",
   "source": [
    "# Drop last class"
   ],
   "metadata": {
    "collapsed": false
   }
  },
  {
   "cell_type": "code",
   "execution_count": 27,
   "outputs": [],
   "source": [
    "# Drop last class\n",
    "train_df_bin = train_df[train_df[\"Onshore_Offshore\"] != 2].reset_index(drop=True)\n",
    "minor_class = train_df[train_df[\"Onshore_Offshore\"] == 2]"
   ],
   "metadata": {
    "collapsed": false,
    "pycharm": {
     "name": "#%%\n"
    }
   }
  },
  {
   "cell_type": "code",
   "execution_count": 28,
   "outputs": [],
   "source": [
    "X_train, X_val, y_train, y_val = train_test_split(train_df_bin[feature_cols],\n",
    "                                                  train_df_bin[target_col],\n",
    "                                                  stratify=train_df_bin[target_col],\n",
    "                                                  shuffle=True,\n",
    "                                                  random_state=42,\n",
    "                                                  train_size=0.8)\n",
    "# Add minor class in test\n",
    "X_val = pd.concat([X_val, minor_class[feature_cols]], axis=0)\n",
    "y_val = pd.concat([y_val, minor_class[target_col]], axis=0)"
   ],
   "metadata": {
    "collapsed": false,
    "pycharm": {
     "name": "#%%\n"
    }
   }
  },
  {
   "cell_type": "markdown",
   "source": [
    "### XGBClassifier"
   ],
   "metadata": {
    "collapsed": false
   }
  },
  {
   "cell_type": "code",
   "execution_count": 29,
   "metadata": {
    "scrolled": true
   },
   "outputs": [
    {
     "name": "stdout",
     "output_type": "stream",
     "text": [
      "Fitting 3 folds for each of 144 candidates, totalling 432 fits\n"
     ]
    },
    {
     "data": {
      "text/plain": "GridSearchCV(cv=3,\n             estimator=Pipeline(steps=[('preprocessor',\n                                        ColumnTransformer(transformers=[('num',\n                                                                         Pipeline(steps=[('imputer',\n                                                                                          SimpleImputer(strategy='median')),\n                                                                                         ('scaler',\n                                                                                          StandardScaler())]),\n                                                                         ['Depth',\n                                                                          'Gross',\n                                                                          'Netpay',\n                                                                          'Porosity',\n                                                                          'Permeability']),\n                                                                        ('cat',\n                                                                         OneHotEncoder(handle_unknown='ignore'),\n                                                                         ['Tectonic_regime',\n                                                                          'Hydrocarbon_type',\n                                                                          'Reservoir_status',\n                                                                          'St...\n                                                      monotone_constraints=None,\n                                                      n_estimators=100,\n                                                      n_jobs=None,\n                                                      num_parallel_tree=None,\n                                                      predictor=None,\n                                                      random_state=42, ...))]),\n             n_jobs=-1,\n             param_grid={'classifier__colsample_bytree': [0.7, 0.3],\n                         'classifier__gamma': [0, 0.5],\n                         'classifier__learning_rate': [0.1, 0.03, 0.3],\n                         'classifier__max_depth': [2, 6],\n                         'classifier__n_estimators': [100, 300, 500],\n                         'classifier__subsample': [0.6, 0.4]},\n             verbose=1)",
      "text/html": "<style>#sk-container-id-4 {color: black;background-color: white;}#sk-container-id-4 pre{padding: 0;}#sk-container-id-4 div.sk-toggleable {background-color: white;}#sk-container-id-4 label.sk-toggleable__label {cursor: pointer;display: block;width: 100%;margin-bottom: 0;padding: 0.3em;box-sizing: border-box;text-align: center;}#sk-container-id-4 label.sk-toggleable__label-arrow:before {content: \"▸\";float: left;margin-right: 0.25em;color: #696969;}#sk-container-id-4 label.sk-toggleable__label-arrow:hover:before {color: black;}#sk-container-id-4 div.sk-estimator:hover label.sk-toggleable__label-arrow:before {color: black;}#sk-container-id-4 div.sk-toggleable__content {max-height: 0;max-width: 0;overflow: hidden;text-align: left;background-color: #f0f8ff;}#sk-container-id-4 div.sk-toggleable__content pre {margin: 0.2em;color: black;border-radius: 0.25em;background-color: #f0f8ff;}#sk-container-id-4 input.sk-toggleable__control:checked~div.sk-toggleable__content {max-height: 200px;max-width: 100%;overflow: auto;}#sk-container-id-4 input.sk-toggleable__control:checked~label.sk-toggleable__label-arrow:before {content: \"▾\";}#sk-container-id-4 div.sk-estimator input.sk-toggleable__control:checked~label.sk-toggleable__label {background-color: #d4ebff;}#sk-container-id-4 div.sk-label input.sk-toggleable__control:checked~label.sk-toggleable__label {background-color: #d4ebff;}#sk-container-id-4 input.sk-hidden--visually {border: 0;clip: rect(1px 1px 1px 1px);clip: rect(1px, 1px, 1px, 1px);height: 1px;margin: -1px;overflow: hidden;padding: 0;position: absolute;width: 1px;}#sk-container-id-4 div.sk-estimator {font-family: monospace;background-color: #f0f8ff;border: 1px dotted black;border-radius: 0.25em;box-sizing: border-box;margin-bottom: 0.5em;}#sk-container-id-4 div.sk-estimator:hover {background-color: #d4ebff;}#sk-container-id-4 div.sk-parallel-item::after {content: \"\";width: 100%;border-bottom: 1px solid gray;flex-grow: 1;}#sk-container-id-4 div.sk-label:hover label.sk-toggleable__label {background-color: #d4ebff;}#sk-container-id-4 div.sk-serial::before {content: \"\";position: absolute;border-left: 1px solid gray;box-sizing: border-box;top: 0;bottom: 0;left: 50%;z-index: 0;}#sk-container-id-4 div.sk-serial {display: flex;flex-direction: column;align-items: center;background-color: white;padding-right: 0.2em;padding-left: 0.2em;position: relative;}#sk-container-id-4 div.sk-item {position: relative;z-index: 1;}#sk-container-id-4 div.sk-parallel {display: flex;align-items: stretch;justify-content: center;background-color: white;position: relative;}#sk-container-id-4 div.sk-item::before, #sk-container-id-4 div.sk-parallel-item::before {content: \"\";position: absolute;border-left: 1px solid gray;box-sizing: border-box;top: 0;bottom: 0;left: 50%;z-index: -1;}#sk-container-id-4 div.sk-parallel-item {display: flex;flex-direction: column;z-index: 1;position: relative;background-color: white;}#sk-container-id-4 div.sk-parallel-item:first-child::after {align-self: flex-end;width: 50%;}#sk-container-id-4 div.sk-parallel-item:last-child::after {align-self: flex-start;width: 50%;}#sk-container-id-4 div.sk-parallel-item:only-child::after {width: 0;}#sk-container-id-4 div.sk-dashed-wrapped {border: 1px dashed gray;margin: 0 0.4em 0.5em 0.4em;box-sizing: border-box;padding-bottom: 0.4em;background-color: white;}#sk-container-id-4 div.sk-label label {font-family: monospace;font-weight: bold;display: inline-block;line-height: 1.2em;}#sk-container-id-4 div.sk-label-container {text-align: center;}#sk-container-id-4 div.sk-container {/* jupyter's `normalize.less` sets `[hidden] { display: none; }` but bootstrap.min.css set `[hidden] { display: none !important; }` so we also need the `!important` here to be able to override the default hidden behavior on the sphinx rendered scikit-learn.org. See: https://github.com/scikit-learn/scikit-learn/issues/21755 */display: inline-block !important;position: relative;}#sk-container-id-4 div.sk-text-repr-fallback {display: none;}</style><div id=\"sk-container-id-4\" class=\"sk-top-container\"><div class=\"sk-text-repr-fallback\"><pre>GridSearchCV(cv=3,\n             estimator=Pipeline(steps=[(&#x27;preprocessor&#x27;,\n                                        ColumnTransformer(transformers=[(&#x27;num&#x27;,\n                                                                         Pipeline(steps=[(&#x27;imputer&#x27;,\n                                                                                          SimpleImputer(strategy=&#x27;median&#x27;)),\n                                                                                         (&#x27;scaler&#x27;,\n                                                                                          StandardScaler())]),\n                                                                         [&#x27;Depth&#x27;,\n                                                                          &#x27;Gross&#x27;,\n                                                                          &#x27;Netpay&#x27;,\n                                                                          &#x27;Porosity&#x27;,\n                                                                          &#x27;Permeability&#x27;]),\n                                                                        (&#x27;cat&#x27;,\n                                                                         OneHotEncoder(handle_unknown=&#x27;ignore&#x27;),\n                                                                         [&#x27;Tectonic_regime&#x27;,\n                                                                          &#x27;Hydrocarbon_type&#x27;,\n                                                                          &#x27;Reservoir_status&#x27;,\n                                                                          &#x27;St...\n                                                      monotone_constraints=None,\n                                                      n_estimators=100,\n                                                      n_jobs=None,\n                                                      num_parallel_tree=None,\n                                                      predictor=None,\n                                                      random_state=42, ...))]),\n             n_jobs=-1,\n             param_grid={&#x27;classifier__colsample_bytree&#x27;: [0.7, 0.3],\n                         &#x27;classifier__gamma&#x27;: [0, 0.5],\n                         &#x27;classifier__learning_rate&#x27;: [0.1, 0.03, 0.3],\n                         &#x27;classifier__max_depth&#x27;: [2, 6],\n                         &#x27;classifier__n_estimators&#x27;: [100, 300, 500],\n                         &#x27;classifier__subsample&#x27;: [0.6, 0.4]},\n             verbose=1)</pre><b>In a Jupyter environment, please rerun this cell to show the HTML representation or trust the notebook. <br />On GitHub, the HTML representation is unable to render, please try loading this page with nbviewer.org.</b></div><div class=\"sk-container\" hidden><div class=\"sk-item sk-dashed-wrapped\"><div class=\"sk-label-container\"><div class=\"sk-label sk-toggleable\"><input class=\"sk-toggleable__control sk-hidden--visually\" id=\"sk-estimator-id-26\" type=\"checkbox\" ><label for=\"sk-estimator-id-26\" class=\"sk-toggleable__label sk-toggleable__label-arrow\">GridSearchCV</label><div class=\"sk-toggleable__content\"><pre>GridSearchCV(cv=3,\n             estimator=Pipeline(steps=[(&#x27;preprocessor&#x27;,\n                                        ColumnTransformer(transformers=[(&#x27;num&#x27;,\n                                                                         Pipeline(steps=[(&#x27;imputer&#x27;,\n                                                                                          SimpleImputer(strategy=&#x27;median&#x27;)),\n                                                                                         (&#x27;scaler&#x27;,\n                                                                                          StandardScaler())]),\n                                                                         [&#x27;Depth&#x27;,\n                                                                          &#x27;Gross&#x27;,\n                                                                          &#x27;Netpay&#x27;,\n                                                                          &#x27;Porosity&#x27;,\n                                                                          &#x27;Permeability&#x27;]),\n                                                                        (&#x27;cat&#x27;,\n                                                                         OneHotEncoder(handle_unknown=&#x27;ignore&#x27;),\n                                                                         [&#x27;Tectonic_regime&#x27;,\n                                                                          &#x27;Hydrocarbon_type&#x27;,\n                                                                          &#x27;Reservoir_status&#x27;,\n                                                                          &#x27;St...\n                                                      monotone_constraints=None,\n                                                      n_estimators=100,\n                                                      n_jobs=None,\n                                                      num_parallel_tree=None,\n                                                      predictor=None,\n                                                      random_state=42, ...))]),\n             n_jobs=-1,\n             param_grid={&#x27;classifier__colsample_bytree&#x27;: [0.7, 0.3],\n                         &#x27;classifier__gamma&#x27;: [0, 0.5],\n                         &#x27;classifier__learning_rate&#x27;: [0.1, 0.03, 0.3],\n                         &#x27;classifier__max_depth&#x27;: [2, 6],\n                         &#x27;classifier__n_estimators&#x27;: [100, 300, 500],\n                         &#x27;classifier__subsample&#x27;: [0.6, 0.4]},\n             verbose=1)</pre></div></div></div><div class=\"sk-parallel\"><div class=\"sk-parallel-item\"><div class=\"sk-item\"><div class=\"sk-label-container\"><div class=\"sk-label sk-toggleable\"><input class=\"sk-toggleable__control sk-hidden--visually\" id=\"sk-estimator-id-27\" type=\"checkbox\" ><label for=\"sk-estimator-id-27\" class=\"sk-toggleable__label sk-toggleable__label-arrow\">estimator: Pipeline</label><div class=\"sk-toggleable__content\"><pre>Pipeline(steps=[(&#x27;preprocessor&#x27;,\n                 ColumnTransformer(transformers=[(&#x27;num&#x27;,\n                                                  Pipeline(steps=[(&#x27;imputer&#x27;,\n                                                                   SimpleImputer(strategy=&#x27;median&#x27;)),\n                                                                  (&#x27;scaler&#x27;,\n                                                                   StandardScaler())]),\n                                                  [&#x27;Depth&#x27;, &#x27;Gross&#x27;, &#x27;Netpay&#x27;,\n                                                   &#x27;Porosity&#x27;,\n                                                   &#x27;Permeability&#x27;]),\n                                                 (&#x27;cat&#x27;,\n                                                  OneHotEncoder(handle_unknown=&#x27;ignore&#x27;),\n                                                  [&#x27;Tectonic_regime&#x27;,\n                                                   &#x27;Hydrocarbon_type&#x27;,\n                                                   &#x27;Reservoir_status&#x27;,\n                                                   &#x27;Structural_setting&#x27;,\n                                                   &#x27;Period&#x27;, &#x27;...\n                               feature_types=None, gamma=None, gpu_id=None,\n                               grow_policy=None, importance_type=None,\n                               interaction_constraints=None, learning_rate=None,\n                               max_bin=None, max_cat_threshold=None,\n                               max_cat_to_onehot=None, max_delta_step=None,\n                               max_depth=None, max_leaves=None,\n                               min_child_weight=None, missing=nan,\n                               monotone_constraints=None, n_estimators=100,\n                               n_jobs=None, num_parallel_tree=None,\n                               predictor=None, random_state=42, ...))])</pre></div></div></div><div class=\"sk-serial\"><div class=\"sk-item\"><div class=\"sk-serial\"><div class=\"sk-item sk-dashed-wrapped\"><div class=\"sk-label-container\"><div class=\"sk-label sk-toggleable\"><input class=\"sk-toggleable__control sk-hidden--visually\" id=\"sk-estimator-id-28\" type=\"checkbox\" ><label for=\"sk-estimator-id-28\" class=\"sk-toggleable__label sk-toggleable__label-arrow\">preprocessor: ColumnTransformer</label><div class=\"sk-toggleable__content\"><pre>ColumnTransformer(transformers=[(&#x27;num&#x27;,\n                                 Pipeline(steps=[(&#x27;imputer&#x27;,\n                                                  SimpleImputer(strategy=&#x27;median&#x27;)),\n                                                 (&#x27;scaler&#x27;, StandardScaler())]),\n                                 [&#x27;Depth&#x27;, &#x27;Gross&#x27;, &#x27;Netpay&#x27;, &#x27;Porosity&#x27;,\n                                  &#x27;Permeability&#x27;]),\n                                (&#x27;cat&#x27;, OneHotEncoder(handle_unknown=&#x27;ignore&#x27;),\n                                 [&#x27;Tectonic_regime&#x27;, &#x27;Hydrocarbon_type&#x27;,\n                                  &#x27;Reservoir_status&#x27;, &#x27;Structural_setting&#x27;,\n                                  &#x27;Period&#x27;, &#x27;Lithology&#x27;])])</pre></div></div></div><div class=\"sk-parallel\"><div class=\"sk-parallel-item\"><div class=\"sk-item\"><div class=\"sk-label-container\"><div class=\"sk-label sk-toggleable\"><input class=\"sk-toggleable__control sk-hidden--visually\" id=\"sk-estimator-id-29\" type=\"checkbox\" ><label for=\"sk-estimator-id-29\" class=\"sk-toggleable__label sk-toggleable__label-arrow\">num</label><div class=\"sk-toggleable__content\"><pre>[&#x27;Depth&#x27;, &#x27;Gross&#x27;, &#x27;Netpay&#x27;, &#x27;Porosity&#x27;, &#x27;Permeability&#x27;]</pre></div></div></div><div class=\"sk-serial\"><div class=\"sk-item\"><div class=\"sk-serial\"><div class=\"sk-item\"><div class=\"sk-estimator sk-toggleable\"><input class=\"sk-toggleable__control sk-hidden--visually\" id=\"sk-estimator-id-30\" type=\"checkbox\" ><label for=\"sk-estimator-id-30\" class=\"sk-toggleable__label sk-toggleable__label-arrow\">SimpleImputer</label><div class=\"sk-toggleable__content\"><pre>SimpleImputer(strategy=&#x27;median&#x27;)</pre></div></div></div><div class=\"sk-item\"><div class=\"sk-estimator sk-toggleable\"><input class=\"sk-toggleable__control sk-hidden--visually\" id=\"sk-estimator-id-31\" type=\"checkbox\" ><label for=\"sk-estimator-id-31\" class=\"sk-toggleable__label sk-toggleable__label-arrow\">StandardScaler</label><div class=\"sk-toggleable__content\"><pre>StandardScaler()</pre></div></div></div></div></div></div></div></div><div class=\"sk-parallel-item\"><div class=\"sk-item\"><div class=\"sk-label-container\"><div class=\"sk-label sk-toggleable\"><input class=\"sk-toggleable__control sk-hidden--visually\" id=\"sk-estimator-id-32\" type=\"checkbox\" ><label for=\"sk-estimator-id-32\" class=\"sk-toggleable__label sk-toggleable__label-arrow\">cat</label><div class=\"sk-toggleable__content\"><pre>[&#x27;Tectonic_regime&#x27;, &#x27;Hydrocarbon_type&#x27;, &#x27;Reservoir_status&#x27;, &#x27;Structural_setting&#x27;, &#x27;Period&#x27;, &#x27;Lithology&#x27;]</pre></div></div></div><div class=\"sk-serial\"><div class=\"sk-item\"><div class=\"sk-estimator sk-toggleable\"><input class=\"sk-toggleable__control sk-hidden--visually\" id=\"sk-estimator-id-33\" type=\"checkbox\" ><label for=\"sk-estimator-id-33\" class=\"sk-toggleable__label sk-toggleable__label-arrow\">OneHotEncoder</label><div class=\"sk-toggleable__content\"><pre>OneHotEncoder(handle_unknown=&#x27;ignore&#x27;)</pre></div></div></div></div></div></div></div></div><div class=\"sk-item\"><div class=\"sk-estimator sk-toggleable\"><input class=\"sk-toggleable__control sk-hidden--visually\" id=\"sk-estimator-id-34\" type=\"checkbox\" ><label for=\"sk-estimator-id-34\" class=\"sk-toggleable__label sk-toggleable__label-arrow\">XGBClassifier</label><div class=\"sk-toggleable__content\"><pre>XGBClassifier(base_score=None, booster=None, callbacks=None,\n              colsample_bylevel=None, colsample_bynode=None,\n              colsample_bytree=None, early_stopping_rounds=None,\n              enable_categorical=False, eval_metric=None, feature_types=None,\n              gamma=None, gpu_id=None, grow_policy=None, importance_type=None,\n              interaction_constraints=None, learning_rate=None, max_bin=None,\n              max_cat_threshold=None, max_cat_to_onehot=None,\n              max_delta_step=None, max_depth=None, max_leaves=None,\n              min_child_weight=None, missing=nan, monotone_constraints=None,\n              n_estimators=100, n_jobs=None, num_parallel_tree=None,\n              predictor=None, random_state=42, ...)</pre></div></div></div></div></div></div></div></div></div></div></div></div>"
     },
     "execution_count": 29,
     "metadata": {},
     "output_type": "execute_result"
    }
   ],
   "source": [
    "import xgboost as xgb\n",
    "\n",
    "# Define preproccessors\n",
    "numeric_transformer = Pipeline(\n",
    "    steps=[(\"imputer\", SimpleImputer(strategy=\"median\")),\n",
    "           (\"scaler\", StandardScaler())]\n",
    ")\n",
    "preprocessor = ColumnTransformer(\n",
    "    transformers=[\n",
    "        (\"num\", numeric_transformer, num_cols),\n",
    "        (\"cat\", OneHotEncoder(handle_unknown=\"ignore\"), cat_cols),\n",
    "    ]\n",
    ")\n",
    "\n",
    "\n",
    "xgb_cls = xgb.XGBClassifier(objective=\"binary:logistic\", random_state=42)\n",
    "\n",
    "xgb_model = Pipeline(\n",
    "    steps=[(\"preprocessor\", preprocessor),\n",
    "           (\"classifier\", xgb_cls)]\n",
    ")\n",
    "\n",
    "params = {\n",
    "    \"classifier__colsample_bytree\": [0.7, 0.3],\n",
    "    \"classifier__gamma\": [0, 0.5],\n",
    "    \"classifier__learning_rate\": [0.1, 0.03, 0.3], # default 0.1\n",
    "    \"classifier__max_depth\": [2, 6], # default 3\n",
    "    \"classifier__n_estimators\": [100, 300, 500], # default 100\n",
    "    \"classifier__subsample\": [0.6, 0.4]\n",
    "}\n",
    "\n",
    "search_xgb = GridSearchCV(xgb_model,\n",
    "                    param_grid=params,\n",
    "                    cv=3,\n",
    "                    verbose=1,\n",
    "                    n_jobs=-1)\n",
    "\n",
    "search_xgb.fit(X_train, y_train)"
   ]
  },
  {
   "cell_type": "code",
   "execution_count": 30,
   "metadata": {},
   "outputs": [
    {
     "name": "stdout",
     "output_type": "stream",
     "text": [
      "Max test accuracy_score: 0.803030303030303\n",
      "classification_report:\n",
      "               precision    recall  f1-score   support\n",
      "\n",
      "           0       0.64      0.95      0.77        19\n",
      "           1       0.92      0.83      0.88        42\n",
      "           2       0.00      0.00      0.00         5\n",
      "\n",
      "    accuracy                           0.80        66\n",
      "   macro avg       0.52      0.59      0.55        66\n",
      "weighted avg       0.77      0.80      0.78        66\n",
      "\n"
     ]
    },
    {
     "data": {
      "text/plain": "<Figure size 640x480 with 1 Axes>",
      "image/png": "[encoded data removed]"
     },
     "metadata": {},
     "output_type": "display_data"
    }
   ],
   "source": [
    "seve_best_model(models_dict, search_xgb, 'XGBClassifier', X_val, y_val)"
   ]
  },
  {
   "cell_type": "markdown",
   "source": [
    "### LogisticRegressionCV"
   ],
   "metadata": {
    "collapsed": false
   }
  },
  {
   "cell_type": "code",
   "execution_count": 31,
   "outputs": [
    {
     "data": {
      "text/plain": "Pipeline(steps=[('preprocessor',\n                 ColumnTransformer(transformers=[('num',\n                                                  Pipeline(steps=[('imputer',\n                                                                   SimpleImputer(strategy='median')),\n                                                                  ('scaler',\n                                                                   StandardScaler())]),\n                                                  ['Depth', 'Gross', 'Netpay',\n                                                   'Porosity',\n                                                   'Permeability']),\n                                                 ('cat',\n                                                  OneHotEncoder(handle_unknown='ignore'),\n                                                  ['Tectonic_regime',\n                                                   'Hydrocarbon_type',\n                                                   'Reservoir_status',\n                                                   'Structural_setting',\n                                                   'Period', 'Lithology'])])),\n                ('classifier',\n                 LogisticRegressionCV(Cs=[1e-10, 1e-09, 1e-08, 1e-07, 1e-06,\n                                          1e-05, 0.0001, 0.001, 0.01, 0.1, 1.0,\n                                          10.0, 100.0, 1000.0, 10000.0,\n                                          100000.0, 1000000.0, 10000000.0,\n                                          100000000.0, 1000000000.0],\n                                      class_weight='balanced',\n                                      cv=StratifiedKFold(n_splits=3, random_state=42, shuffle=True),\n                                      max_iter=15000, n_jobs=-1,\n                                      random_state=42, scoring='accuracy'))])",
      "text/html": "<style>#sk-container-id-5 {color: black;background-color: white;}#sk-container-id-5 pre{padding: 0;}#sk-container-id-5 div.sk-toggleable {background-color: white;}#sk-container-id-5 label.sk-toggleable__label {cursor: pointer;display: block;width: 100%;margin-bottom: 0;padding: 0.3em;box-sizing: border-box;text-align: center;}#sk-container-id-5 label.sk-toggleable__label-arrow:before {content: \"▸\";float: left;margin-right: 0.25em;color: #696969;}#sk-container-id-5 label.sk-toggleable__label-arrow:hover:before {color: black;}#sk-container-id-5 div.sk-estimator:hover label.sk-toggleable__label-arrow:before {color: black;}#sk-container-id-5 div.sk-toggleable__content {max-height: 0;max-width: 0;overflow: hidden;text-align: left;background-color: #f0f8ff;}#sk-container-id-5 div.sk-toggleable__content pre {margin: 0.2em;color: black;border-radius: 0.25em;background-color: #f0f8ff;}#sk-container-id-5 input.sk-toggleable__control:checked~div.sk-toggleable__content {max-height: 200px;max-width: 100%;overflow: auto;}#sk-container-id-5 input.sk-toggleable__control:checked~label.sk-toggleable__label-arrow:before {content: \"▾\";}#sk-container-id-5 div.sk-estimator input.sk-toggleable__control:checked~label.sk-toggleable__label {background-color: #d4ebff;}#sk-container-id-5 div.sk-label input.sk-toggleable__control:checked~label.sk-toggleable__label {background-color: #d4ebff;}#sk-container-id-5 input.sk-hidden--visually {border: 0;clip: rect(1px 1px 1px 1px);clip: rect(1px, 1px, 1px, 1px);height: 1px;margin: -1px;overflow: hidden;padding: 0;position: absolute;width: 1px;}#sk-container-id-5 div.sk-estimator {font-family: monospace;background-color: #f0f8ff;border: 1px dotted black;border-radius: 0.25em;box-sizing: border-box;margin-bottom: 0.5em;}#sk-container-id-5 div.sk-estimator:hover {background-color: #d4ebff;}#sk-container-id-5 div.sk-parallel-item::after {content: \"\";width: 100%;border-bottom: 1px solid gray;flex-grow: 1;}#sk-container-id-5 div.sk-label:hover label.sk-toggleable__label {background-color: #d4ebff;}#sk-container-id-5 div.sk-serial::before {content: \"\";position: absolute;border-left: 1px solid gray;box-sizing: border-box;top: 0;bottom: 0;left: 50%;z-index: 0;}#sk-container-id-5 div.sk-serial {display: flex;flex-direction: column;align-items: center;background-color: white;padding-right: 0.2em;padding-left: 0.2em;position: relative;}#sk-container-id-5 div.sk-item {position: relative;z-index: 1;}#sk-container-id-5 div.sk-parallel {display: flex;align-items: stretch;justify-content: center;background-color: white;position: relative;}#sk-container-id-5 div.sk-item::before, #sk-container-id-5 div.sk-parallel-item::before {content: \"\";position: absolute;border-left: 1px solid gray;box-sizing: border-box;top: 0;bottom: 0;left: 50%;z-index: -1;}#sk-container-id-5 div.sk-parallel-item {display: flex;flex-direction: column;z-index: 1;position: relative;background-color: white;}#sk-container-id-5 div.sk-parallel-item:first-child::after {align-self: flex-end;width: 50%;}#sk-container-id-5 div.sk-parallel-item:last-child::after {align-self: flex-start;width: 50%;}#sk-container-id-5 div.sk-parallel-item:only-child::after {width: 0;}#sk-container-id-5 div.sk-dashed-wrapped {border: 1px dashed gray;margin: 0 0.4em 0.5em 0.4em;box-sizing: border-box;padding-bottom: 0.4em;background-color: white;}#sk-container-id-5 div.sk-label label {font-family: monospace;font-weight: bold;display: inline-block;line-height: 1.2em;}#sk-container-id-5 div.sk-label-container {text-align: center;}#sk-container-id-5 div.sk-container {/* jupyter's `normalize.less` sets `[hidden] { display: none; }` but bootstrap.min.css set `[hidden] { display: none !important; }` so we also need the `!important` here to be able to override the default hidden behavior on the sphinx rendered scikit-learn.org. See: https://github.com/scikit-learn/scikit-learn/issues/21755 */display: inline-block !important;position: relative;}#sk-container-id-5 div.sk-text-repr-fallback {display: none;}</style><div id=\"sk-container-id-5\" class=\"sk-top-container\"><div class=\"sk-text-repr-fallback\"><pre>Pipeline(steps=[(&#x27;preprocessor&#x27;,\n                 ColumnTransformer(transformers=[(&#x27;num&#x27;,\n                                                  Pipeline(steps=[(&#x27;imputer&#x27;,\n                                                                   SimpleImputer(strategy=&#x27;median&#x27;)),\n                                                                  (&#x27;scaler&#x27;,\n                                                                   StandardScaler())]),\n                                                  [&#x27;Depth&#x27;, &#x27;Gross&#x27;, &#x27;Netpay&#x27;,\n                                                   &#x27;Porosity&#x27;,\n                                                   &#x27;Permeability&#x27;]),\n                                                 (&#x27;cat&#x27;,\n                                                  OneHotEncoder(handle_unknown=&#x27;ignore&#x27;),\n                                                  [&#x27;Tectonic_regime&#x27;,\n                                                   &#x27;Hydrocarbon_type&#x27;,\n                                                   &#x27;Reservoir_status&#x27;,\n                                                   &#x27;Structural_setting&#x27;,\n                                                   &#x27;Period&#x27;, &#x27;Lithology&#x27;])])),\n                (&#x27;classifier&#x27;,\n                 LogisticRegressionCV(Cs=[1e-10, 1e-09, 1e-08, 1e-07, 1e-06,\n                                          1e-05, 0.0001, 0.001, 0.01, 0.1, 1.0,\n                                          10.0, 100.0, 1000.0, 10000.0,\n                                          100000.0, 1000000.0, 10000000.0,\n                                          100000000.0, 1000000000.0],\n                                      class_weight=&#x27;balanced&#x27;,\n                                      cv=StratifiedKFold(n_splits=3, random_state=42, shuffle=True),\n                                      max_iter=15000, n_jobs=-1,\n                                      random_state=42, scoring=&#x27;accuracy&#x27;))])</pre><b>In a Jupyter environment, please rerun this cell to show the HTML representation or trust the notebook. <br />On GitHub, the HTML representation is unable to render, please try loading this page with nbviewer.org.</b></div><div class=\"sk-container\" hidden><div class=\"sk-item sk-dashed-wrapped\"><div class=\"sk-label-container\"><div class=\"sk-label sk-toggleable\"><input class=\"sk-toggleable__control sk-hidden--visually\" id=\"sk-estimator-id-35\" type=\"checkbox\" ><label for=\"sk-estimator-id-35\" class=\"sk-toggleable__label sk-toggleable__label-arrow\">Pipeline</label><div class=\"sk-toggleable__content\"><pre>Pipeline(steps=[(&#x27;preprocessor&#x27;,\n                 ColumnTransformer(transformers=[(&#x27;num&#x27;,\n                                                  Pipeline(steps=[(&#x27;imputer&#x27;,\n                                                                   SimpleImputer(strategy=&#x27;median&#x27;)),\n                                                                  (&#x27;scaler&#x27;,\n                                                                   StandardScaler())]),\n                                                  [&#x27;Depth&#x27;, &#x27;Gross&#x27;, &#x27;Netpay&#x27;,\n                                                   &#x27;Porosity&#x27;,\n                                                   &#x27;Permeability&#x27;]),\n                                                 (&#x27;cat&#x27;,\n                                                  OneHotEncoder(handle_unknown=&#x27;ignore&#x27;),\n                                                  [&#x27;Tectonic_regime&#x27;,\n                                                   &#x27;Hydrocarbon_type&#x27;,\n                                                   &#x27;Reservoir_status&#x27;,\n                                                   &#x27;Structural_setting&#x27;,\n                                                   &#x27;Period&#x27;, &#x27;Lithology&#x27;])])),\n                (&#x27;classifier&#x27;,\n                 LogisticRegressionCV(Cs=[1e-10, 1e-09, 1e-08, 1e-07, 1e-06,\n                                          1e-05, 0.0001, 0.001, 0.01, 0.1, 1.0,\n                                          10.0, 100.0, 1000.0, 10000.0,\n                                          100000.0, 1000000.0, 10000000.0,\n                                          100000000.0, 1000000000.0],\n                                      class_weight=&#x27;balanced&#x27;,\n                                      cv=StratifiedKFold(n_splits=3, random_state=42, shuffle=True),\n                                      max_iter=15000, n_jobs=-1,\n                                      random_state=42, scoring=&#x27;accuracy&#x27;))])</pre></div></div></div><div class=\"sk-serial\"><div class=\"sk-item sk-dashed-wrapped\"><div class=\"sk-label-container\"><div class=\"sk-label sk-toggleable\"><input class=\"sk-toggleable__control sk-hidden--visually\" id=\"sk-estimator-id-36\" type=\"checkbox\" ><label for=\"sk-estimator-id-36\" class=\"sk-toggleable__label sk-toggleable__label-arrow\">preprocessor: ColumnTransformer</label><div class=\"sk-toggleable__content\"><pre>ColumnTransformer(transformers=[(&#x27;num&#x27;,\n                                 Pipeline(steps=[(&#x27;imputer&#x27;,\n                                                  SimpleImputer(strategy=&#x27;median&#x27;)),\n                                                 (&#x27;scaler&#x27;, StandardScaler())]),\n                                 [&#x27;Depth&#x27;, &#x27;Gross&#x27;, &#x27;Netpay&#x27;, &#x27;Porosity&#x27;,\n                                  &#x27;Permeability&#x27;]),\n                                (&#x27;cat&#x27;, OneHotEncoder(handle_unknown=&#x27;ignore&#x27;),\n                                 [&#x27;Tectonic_regime&#x27;, &#x27;Hydrocarbon_type&#x27;,\n                                  &#x27;Reservoir_status&#x27;, &#x27;Structural_setting&#x27;,\n                                  &#x27;Period&#x27;, &#x27;Lithology&#x27;])])</pre></div></div></div><div class=\"sk-parallel\"><div class=\"sk-parallel-item\"><div class=\"sk-item\"><div class=\"sk-label-container\"><div class=\"sk-label sk-toggleable\"><input class=\"sk-toggleable__control sk-hidden--visually\" id=\"sk-estimator-id-37\" type=\"checkbox\" ><label for=\"sk-estimator-id-37\" class=\"sk-toggleable__label sk-toggleable__label-arrow\">num</label><div class=\"sk-toggleable__content\"><pre>[&#x27;Depth&#x27;, &#x27;Gross&#x27;, &#x27;Netpay&#x27;, &#x27;Porosity&#x27;, &#x27;Permeability&#x27;]</pre></div></div></div><div class=\"sk-serial\"><div class=\"sk-item\"><div class=\"sk-serial\"><div class=\"sk-item\"><div class=\"sk-estimator sk-toggleable\"><input class=\"sk-toggleable__control sk-hidden--visually\" id=\"sk-estimator-id-38\" type=\"checkbox\" ><label for=\"sk-estimator-id-38\" class=\"sk-toggleable__label sk-toggleable__label-arrow\">SimpleImputer</label><div class=\"sk-toggleable__content\"><pre>SimpleImputer(strategy=&#x27;median&#x27;)</pre></div></div></div><div class=\"sk-item\"><div class=\"sk-estimator sk-toggleable\"><input class=\"sk-toggleable__control sk-hidden--visually\" id=\"sk-estimator-id-39\" type=\"checkbox\" ><label for=\"sk-estimator-id-39\" class=\"sk-toggleable__label sk-toggleable__label-arrow\">StandardScaler</label><div class=\"sk-toggleable__content\"><pre>StandardScaler()</pre></div></div></div></div></div></div></div></div><div class=\"sk-parallel-item\"><div class=\"sk-item\"><div class=\"sk-label-container\"><div class=\"sk-label sk-toggleable\"><input class=\"sk-toggleable__control sk-hidden--visually\" id=\"sk-estimator-id-40\" type=\"checkbox\" ><label for=\"sk-estimator-id-40\" class=\"sk-toggleable__label sk-toggleable__label-arrow\">cat</label><div class=\"sk-toggleable__content\"><pre>[&#x27;Tectonic_regime&#x27;, &#x27;Hydrocarbon_type&#x27;, &#x27;Reservoir_status&#x27;, &#x27;Structural_setting&#x27;, &#x27;Period&#x27;, &#x27;Lithology&#x27;]</pre></div></div></div><div class=\"sk-serial\"><div class=\"sk-item\"><div class=\"sk-estimator sk-toggleable\"><input class=\"sk-toggleable__control sk-hidden--visually\" id=\"sk-estimator-id-41\" type=\"checkbox\" ><label for=\"sk-estimator-id-41\" class=\"sk-toggleable__label sk-toggleable__label-arrow\">OneHotEncoder</label><div class=\"sk-toggleable__content\"><pre>OneHotEncoder(handle_unknown=&#x27;ignore&#x27;)</pre></div></div></div></div></div></div></div></div><div class=\"sk-item\"><div class=\"sk-estimator sk-toggleable\"><input class=\"sk-toggleable__control sk-hidden--visually\" id=\"sk-estimator-id-42\" type=\"checkbox\" ><label for=\"sk-estimator-id-42\" class=\"sk-toggleable__label sk-toggleable__label-arrow\">LogisticRegressionCV</label><div class=\"sk-toggleable__content\"><pre>LogisticRegressionCV(Cs=[1e-10, 1e-09, 1e-08, 1e-07, 1e-06, 1e-05, 0.0001,\n                         0.001, 0.01, 0.1, 1.0, 10.0, 100.0, 1000.0, 10000.0,\n                         100000.0, 1000000.0, 10000000.0, 100000000.0,\n                         1000000000.0],\n                     class_weight=&#x27;balanced&#x27;,\n                     cv=StratifiedKFold(n_splits=3, random_state=42, shuffle=True),\n                     max_iter=15000, n_jobs=-1, random_state=42,\n                     scoring=&#x27;accuracy&#x27;)</pre></div></div></div></div></div></div></div>"
     },
     "execution_count": 31,
     "metadata": {},
     "output_type": "execute_result"
    }
   ],
   "source": [
    "# Define preproccessors\n",
    "numeric_transformer = Pipeline(\n",
    "    steps=[(\"imputer\", SimpleImputer(strategy=\"median\")),\n",
    "           (\"scaler\", StandardScaler())]\n",
    ")\n",
    "\n",
    "preprocessor = ColumnTransformer(\n",
    "    transformers=[\n",
    "        (\"num\", numeric_transformer, num_cols),\n",
    "        (\"cat\", OneHotEncoder(handle_unknown=\"ignore\"), cat_cols),\n",
    "    ]\n",
    ")\n",
    "\n",
    "fold = StratifiedKFold(n_splits=3, shuffle=True, random_state=42)\n",
    "\n",
    "log_reg = LogisticRegressionCV(\n",
    "    penalty=\"l2\",\n",
    "    scoring='accuracy', # aug_score, recall_weighted, accuracy\n",
    "    Cs=list(np.power(10.0, np.arange(-10, 10))),\n",
    "    n_jobs=-1,\n",
    "    max_iter=15000,\n",
    "    cv=fold,\n",
    "    refit=True,\n",
    "    class_weight=\"balanced\",\n",
    "    random_state=42\n",
    "    )\n",
    "\n",
    "\n",
    "logit_reg = Pipeline(\n",
    "    steps=[(\"preprocessor\", preprocessor),\n",
    "           (\"classifier\", log_reg)]\n",
    ")\n",
    "\n",
    "\n",
    "\n",
    "logit_reg.fit(X_train, y_train)"
   ],
   "metadata": {
    "collapsed": false,
    "pycharm": {
     "name": "#%%\n"
    }
   }
  },
  {
   "cell_type": "code",
   "execution_count": 32,
   "metadata": {},
   "outputs": [
    {
     "name": "stdout",
     "output_type": "stream",
     "text": [
      "Max test accuracy_score: 0.8787878787878788\n",
      "classification_report:\n",
      "               precision    recall  f1-score   support\n",
      "\n",
      "           0       0.89      0.89      0.89        19\n",
      "           1       0.87      0.98      0.92        42\n",
      "           2       0.00      0.00      0.00         5\n",
      "\n",
      "    accuracy                           0.88        66\n",
      "   macro avg       0.59      0.62      0.61        66\n",
      "weighted avg       0.81      0.88      0.84        66\n",
      "\n"
     ]
    },
    {
     "data": {
      "text/plain": "<Figure size 640x480 with 1 Axes>",
      "image/png": "[encoded data removed]"
     },
     "metadata": {},
     "output_type": "display_data"
    }
   ],
   "source": [
    "seve_best_model(models_dict, logit_reg, 'LogisticRegressionCV', X_val, y_val)"
   ]
  },
  {
   "cell_type": "code",
   "execution_count": 33,
   "metadata": {},
   "outputs": [],
   "source": [
    "# import pickle\n",
    "# with open(\"models/log_reg.pickle\", \"wb\") as record_file:\n",
    "#     record_file = pickle.dumps(logit_reg)"
   ]
  },
  {
   "cell_type": "code",
   "execution_count": 34,
   "metadata": {},
   "outputs": [],
   "source": [
    "# import pickle\n",
    "# with open(\"models/log_reg.pickle\", \"rb\") as read_file:\n",
    "#     best_log_reg = pickle.load(read_file)\n",
    "# metrics_eval(best_log_reg, X_test, y_test)"
   ]
  },
  {
   "cell_type": "markdown",
   "source": [
    "### RandomForestClassifier"
   ],
   "metadata": {
    "collapsed": false
   }
  },
  {
   "cell_type": "code",
   "execution_count": 37,
   "metadata": {
    "scrolled": true
   },
   "outputs": [
    {
     "name": "stdout",
     "output_type": "stream",
     "text": [
      "Fitting 5 folds for each of 72 candidates, totalling 360 fits\n"
     ]
    },
    {
     "data": {
      "text/plain": "GridSearchCV(cv=StratifiedKFold(n_splits=5, random_state=41, shuffle=True),\n             estimator=Pipeline(steps=[('preprocessor',\n                                        ColumnTransformer(transformers=[('num',\n                                                                         Pipeline(steps=[('imputer',\n                                                                                          SimpleImputer(strategy='median')),\n                                                                                         ('scaler',\n                                                                                          StandardScaler())]),\n                                                                         ['Depth',\n                                                                          'Gross',\n                                                                          'Netpay',\n                                                                          'Porosity',\n                                                                          'Permeability']),\n                                                                        ('cat',\n                                                                         OneHotEncoder(handle_unknown='ignore'),\n                                                                         ['Tec...\n                                        RandomForestClassifier())]),\n             n_jobs=-1,\n             param_grid={'classifier__bootstrap': [False],\n                         'classifier__class_weight': ['balanced'],\n                         'classifier__criterion': ['gini', 'entropy'],\n                         'classifier__max_depth': [None],\n                         'classifier__max_features': [1, 2],\n                         'classifier__min_samples_leaf': [1, 3, 10],\n                         'classifier__min_samples_split': [2, 3, 10],\n                         'classifier__n_estimators': [300, 500]},\n             scoring='accuracy', verbose=1)",
      "text/html": "<style>#sk-container-id-6 {color: black;background-color: white;}#sk-container-id-6 pre{padding: 0;}#sk-container-id-6 div.sk-toggleable {background-color: white;}#sk-container-id-6 label.sk-toggleable__label {cursor: pointer;display: block;width: 100%;margin-bottom: 0;padding: 0.3em;box-sizing: border-box;text-align: center;}#sk-container-id-6 label.sk-toggleable__label-arrow:before {content: \"▸\";float: left;margin-right: 0.25em;color: #696969;}#sk-container-id-6 label.sk-toggleable__label-arrow:hover:before {color: black;}#sk-container-id-6 div.sk-estimator:hover label.sk-toggleable__label-arrow:before {color: black;}#sk-container-id-6 div.sk-toggleable__content {max-height: 0;max-width: 0;overflow: hidden;text-align: left;background-color: #f0f8ff;}#sk-container-id-6 div.sk-toggleable__content pre {margin: 0.2em;color: black;border-radius: 0.25em;background-color: #f0f8ff;}#sk-container-id-6 input.sk-toggleable__control:checked~div.sk-toggleable__content {max-height: 200px;max-width: 100%;overflow: auto;}#sk-container-id-6 input.sk-toggleable__control:checked~label.sk-toggleable__label-arrow:before {content: \"▾\";}#sk-container-id-6 div.sk-estimator input.sk-toggleable__control:checked~label.sk-toggleable__label {background-color: #d4ebff;}#sk-container-id-6 div.sk-label input.sk-toggleable__control:checked~label.sk-toggleable__label {background-color: #d4ebff;}#sk-container-id-6 input.sk-hidden--visually {border: 0;clip: rect(1px 1px 1px 1px);clip: rect(1px, 1px, 1px, 1px);height: 1px;margin: -1px;overflow: hidden;padding: 0;position: absolute;width: 1px;}#sk-container-id-6 div.sk-estimator {font-family: monospace;background-color: #f0f8ff;border: 1px dotted black;border-radius: 0.25em;box-sizing: border-box;margin-bottom: 0.5em;}#sk-container-id-6 div.sk-estimator:hover {background-color: #d4ebff;}#sk-container-id-6 div.sk-parallel-item::after {content: \"\";width: 100%;border-bottom: 1px solid gray;flex-grow: 1;}#sk-container-id-6 div.sk-label:hover label.sk-toggleable__label {background-color: #d4ebff;}#sk-container-id-6 div.sk-serial::before {content: \"\";position: absolute;border-left: 1px solid gray;box-sizing: border-box;top: 0;bottom: 0;left: 50%;z-index: 0;}#sk-container-id-6 div.sk-serial {display: flex;flex-direction: column;align-items: center;background-color: white;padding-right: 0.2em;padding-left: 0.2em;position: relative;}#sk-container-id-6 div.sk-item {position: relative;z-index: 1;}#sk-container-id-6 div.sk-parallel {display: flex;align-items: stretch;justify-content: center;background-color: white;position: relative;}#sk-container-id-6 div.sk-item::before, #sk-container-id-6 div.sk-parallel-item::before {content: \"\";position: absolute;border-left: 1px solid gray;box-sizing: border-box;top: 0;bottom: 0;left: 50%;z-index: -1;}#sk-container-id-6 div.sk-parallel-item {display: flex;flex-direction: column;z-index: 1;position: relative;background-color: white;}#sk-container-id-6 div.sk-parallel-item:first-child::after {align-self: flex-end;width: 50%;}#sk-container-id-6 div.sk-parallel-item:last-child::after {align-self: flex-start;width: 50%;}#sk-container-id-6 div.sk-parallel-item:only-child::after {width: 0;}#sk-container-id-6 div.sk-dashed-wrapped {border: 1px dashed gray;margin: 0 0.4em 0.5em 0.4em;box-sizing: border-box;padding-bottom: 0.4em;background-color: white;}#sk-container-id-6 div.sk-label label {font-family: monospace;font-weight: bold;display: inline-block;line-height: 1.2em;}#sk-container-id-6 div.sk-label-container {text-align: center;}#sk-container-id-6 div.sk-container {/* jupyter's `normalize.less` sets `[hidden] { display: none; }` but bootstrap.min.css set `[hidden] { display: none !important; }` so we also need the `!important` here to be able to override the default hidden behavior on the sphinx rendered scikit-learn.org. See: https://github.com/scikit-learn/scikit-learn/issues/21755 */display: inline-block !important;position: relative;}#sk-container-id-6 div.sk-text-repr-fallback {display: none;}</style><div id=\"sk-container-id-6\" class=\"sk-top-container\"><div class=\"sk-text-repr-fallback\"><pre>GridSearchCV(cv=StratifiedKFold(n_splits=5, random_state=41, shuffle=True),\n             estimator=Pipeline(steps=[(&#x27;preprocessor&#x27;,\n                                        ColumnTransformer(transformers=[(&#x27;num&#x27;,\n                                                                         Pipeline(steps=[(&#x27;imputer&#x27;,\n                                                                                          SimpleImputer(strategy=&#x27;median&#x27;)),\n                                                                                         (&#x27;scaler&#x27;,\n                                                                                          StandardScaler())]),\n                                                                         [&#x27;Depth&#x27;,\n                                                                          &#x27;Gross&#x27;,\n                                                                          &#x27;Netpay&#x27;,\n                                                                          &#x27;Porosity&#x27;,\n                                                                          &#x27;Permeability&#x27;]),\n                                                                        (&#x27;cat&#x27;,\n                                                                         OneHotEncoder(handle_unknown=&#x27;ignore&#x27;),\n                                                                         [&#x27;Tec...\n                                        RandomForestClassifier())]),\n             n_jobs=-1,\n             param_grid={&#x27;classifier__bootstrap&#x27;: [False],\n                         &#x27;classifier__class_weight&#x27;: [&#x27;balanced&#x27;],\n                         &#x27;classifier__criterion&#x27;: [&#x27;gini&#x27;, &#x27;entropy&#x27;],\n                         &#x27;classifier__max_depth&#x27;: [None],\n                         &#x27;classifier__max_features&#x27;: [1, 2],\n                         &#x27;classifier__min_samples_leaf&#x27;: [1, 3, 10],\n                         &#x27;classifier__min_samples_split&#x27;: [2, 3, 10],\n                         &#x27;classifier__n_estimators&#x27;: [300, 500]},\n             scoring=&#x27;accuracy&#x27;, verbose=1)</pre><b>In a Jupyter environment, please rerun this cell to show the HTML representation or trust the notebook. <br />On GitHub, the HTML representation is unable to render, please try loading this page with nbviewer.org.</b></div><div class=\"sk-container\" hidden><div class=\"sk-item sk-dashed-wrapped\"><div class=\"sk-label-container\"><div class=\"sk-label sk-toggleable\"><input class=\"sk-toggleable__control sk-hidden--visually\" id=\"sk-estimator-id-43\" type=\"checkbox\" ><label for=\"sk-estimator-id-43\" class=\"sk-toggleable__label sk-toggleable__label-arrow\">GridSearchCV</label><div class=\"sk-toggleable__content\"><pre>GridSearchCV(cv=StratifiedKFold(n_splits=5, random_state=41, shuffle=True),\n             estimator=Pipeline(steps=[(&#x27;preprocessor&#x27;,\n                                        ColumnTransformer(transformers=[(&#x27;num&#x27;,\n                                                                         Pipeline(steps=[(&#x27;imputer&#x27;,\n                                                                                          SimpleImputer(strategy=&#x27;median&#x27;)),\n                                                                                         (&#x27;scaler&#x27;,\n                                                                                          StandardScaler())]),\n                                                                         [&#x27;Depth&#x27;,\n                                                                          &#x27;Gross&#x27;,\n                                                                          &#x27;Netpay&#x27;,\n                                                                          &#x27;Porosity&#x27;,\n                                                                          &#x27;Permeability&#x27;]),\n                                                                        (&#x27;cat&#x27;,\n                                                                         OneHotEncoder(handle_unknown=&#x27;ignore&#x27;),\n                                                                         [&#x27;Tec...\n                                        RandomForestClassifier())]),\n             n_jobs=-1,\n             param_grid={&#x27;classifier__bootstrap&#x27;: [False],\n                         &#x27;classifier__class_weight&#x27;: [&#x27;balanced&#x27;],\n                         &#x27;classifier__criterion&#x27;: [&#x27;gini&#x27;, &#x27;entropy&#x27;],\n                         &#x27;classifier__max_depth&#x27;: [None],\n                         &#x27;classifier__max_features&#x27;: [1, 2],\n                         &#x27;classifier__min_samples_leaf&#x27;: [1, 3, 10],\n                         &#x27;classifier__min_samples_split&#x27;: [2, 3, 10],\n                         &#x27;classifier__n_estimators&#x27;: [300, 500]},\n             scoring=&#x27;accuracy&#x27;, verbose=1)</pre></div></div></div><div class=\"sk-parallel\"><div class=\"sk-parallel-item\"><div class=\"sk-item\"><div class=\"sk-label-container\"><div class=\"sk-label sk-toggleable\"><input class=\"sk-toggleable__control sk-hidden--visually\" id=\"sk-estimator-id-44\" type=\"checkbox\" ><label for=\"sk-estimator-id-44\" class=\"sk-toggleable__label sk-toggleable__label-arrow\">estimator: Pipeline</label><div class=\"sk-toggleable__content\"><pre>Pipeline(steps=[(&#x27;preprocessor&#x27;,\n                 ColumnTransformer(transformers=[(&#x27;num&#x27;,\n                                                  Pipeline(steps=[(&#x27;imputer&#x27;,\n                                                                   SimpleImputer(strategy=&#x27;median&#x27;)),\n                                                                  (&#x27;scaler&#x27;,\n                                                                   StandardScaler())]),\n                                                  [&#x27;Depth&#x27;, &#x27;Gross&#x27;, &#x27;Netpay&#x27;,\n                                                   &#x27;Porosity&#x27;,\n                                                   &#x27;Permeability&#x27;]),\n                                                 (&#x27;cat&#x27;,\n                                                  OneHotEncoder(handle_unknown=&#x27;ignore&#x27;),\n                                                  [&#x27;Tectonic_regime&#x27;,\n                                                   &#x27;Hydrocarbon_type&#x27;,\n                                                   &#x27;Reservoir_status&#x27;,\n                                                   &#x27;Structural_setting&#x27;,\n                                                   &#x27;Period&#x27;, &#x27;Lithology&#x27;])])),\n                (&#x27;classifier&#x27;, RandomForestClassifier())])</pre></div></div></div><div class=\"sk-serial\"><div class=\"sk-item\"><div class=\"sk-serial\"><div class=\"sk-item sk-dashed-wrapped\"><div class=\"sk-label-container\"><div class=\"sk-label sk-toggleable\"><input class=\"sk-toggleable__control sk-hidden--visually\" id=\"sk-estimator-id-45\" type=\"checkbox\" ><label for=\"sk-estimator-id-45\" class=\"sk-toggleable__label sk-toggleable__label-arrow\">preprocessor: ColumnTransformer</label><div class=\"sk-toggleable__content\"><pre>ColumnTransformer(transformers=[(&#x27;num&#x27;,\n                                 Pipeline(steps=[(&#x27;imputer&#x27;,\n                                                  SimpleImputer(strategy=&#x27;median&#x27;)),\n                                                 (&#x27;scaler&#x27;, StandardScaler())]),\n                                 [&#x27;Depth&#x27;, &#x27;Gross&#x27;, &#x27;Netpay&#x27;, &#x27;Porosity&#x27;,\n                                  &#x27;Permeability&#x27;]),\n                                (&#x27;cat&#x27;, OneHotEncoder(handle_unknown=&#x27;ignore&#x27;),\n                                 [&#x27;Tectonic_regime&#x27;, &#x27;Hydrocarbon_type&#x27;,\n                                  &#x27;Reservoir_status&#x27;, &#x27;Structural_setting&#x27;,\n                                  &#x27;Period&#x27;, &#x27;Lithology&#x27;])])</pre></div></div></div><div class=\"sk-parallel\"><div class=\"sk-parallel-item\"><div class=\"sk-item\"><div class=\"sk-label-container\"><div class=\"sk-label sk-toggleable\"><input class=\"sk-toggleable__control sk-hidden--visually\" id=\"sk-estimator-id-46\" type=\"checkbox\" ><label for=\"sk-estimator-id-46\" class=\"sk-toggleable__label sk-toggleable__label-arrow\">num</label><div class=\"sk-toggleable__content\"><pre>[&#x27;Depth&#x27;, &#x27;Gross&#x27;, &#x27;Netpay&#x27;, &#x27;Porosity&#x27;, &#x27;Permeability&#x27;]</pre></div></div></div><div class=\"sk-serial\"><div class=\"sk-item\"><div class=\"sk-serial\"><div class=\"sk-item\"><div class=\"sk-estimator sk-toggleable\"><input class=\"sk-toggleable__control sk-hidden--visually\" id=\"sk-estimator-id-47\" type=\"checkbox\" ><label for=\"sk-estimator-id-47\" class=\"sk-toggleable__label sk-toggleable__label-arrow\">SimpleImputer</label><div class=\"sk-toggleable__content\"><pre>SimpleImputer(strategy=&#x27;median&#x27;)</pre></div></div></div><div class=\"sk-item\"><div class=\"sk-estimator sk-toggleable\"><input class=\"sk-toggleable__control sk-hidden--visually\" id=\"sk-estimator-id-48\" type=\"checkbox\" ><label for=\"sk-estimator-id-48\" class=\"sk-toggleable__label sk-toggleable__label-arrow\">StandardScaler</label><div class=\"sk-toggleable__content\"><pre>StandardScaler()</pre></div></div></div></div></div></div></div></div><div class=\"sk-parallel-item\"><div class=\"sk-item\"><div class=\"sk-label-container\"><div class=\"sk-label sk-toggleable\"><input class=\"sk-toggleable__control sk-hidden--visually\" id=\"sk-estimator-id-49\" type=\"checkbox\" ><label for=\"sk-estimator-id-49\" class=\"sk-toggleable__label sk-toggleable__label-arrow\">cat</label><div class=\"sk-toggleable__content\"><pre>[&#x27;Tectonic_regime&#x27;, &#x27;Hydrocarbon_type&#x27;, &#x27;Reservoir_status&#x27;, &#x27;Structural_setting&#x27;, &#x27;Period&#x27;, &#x27;Lithology&#x27;]</pre></div></div></div><div class=\"sk-serial\"><div class=\"sk-item\"><div class=\"sk-estimator sk-toggleable\"><input class=\"sk-toggleable__control sk-hidden--visually\" id=\"sk-estimator-id-50\" type=\"checkbox\" ><label for=\"sk-estimator-id-50\" class=\"sk-toggleable__label sk-toggleable__label-arrow\">OneHotEncoder</label><div class=\"sk-toggleable__content\"><pre>OneHotEncoder(handle_unknown=&#x27;ignore&#x27;)</pre></div></div></div></div></div></div></div></div><div class=\"sk-item\"><div class=\"sk-estimator sk-toggleable\"><input class=\"sk-toggleable__control sk-hidden--visually\" id=\"sk-estimator-id-51\" type=\"checkbox\" ><label for=\"sk-estimator-id-51\" class=\"sk-toggleable__label sk-toggleable__label-arrow\">RandomForestClassifier</label><div class=\"sk-toggleable__content\"><pre>RandomForestClassifier()</pre></div></div></div></div></div></div></div></div></div></div></div></div>"
     },
     "execution_count": 37,
     "metadata": {},
     "output_type": "execute_result"
    }
   ],
   "source": [
    "from sklearn.ensemble import RandomForestClassifier\n",
    "\n",
    "numeric_transformer = Pipeline(\n",
    "    steps=[(\"imputer\", SimpleImputer(strategy=\"median\")),\n",
    "           (\"scaler\", StandardScaler())]\n",
    ")\n",
    "preprocessor = ColumnTransformer(\n",
    "    transformers=[\n",
    "        (\"num\", numeric_transformer, num_cols),\n",
    "        (\"cat\", OneHotEncoder(handle_unknown=\"ignore\"), cat_cols),\n",
    "    ]\n",
    ")\n",
    "\n",
    "rand_forest = Pipeline(\n",
    "    steps=[(\"preprocessor\", preprocessor),\n",
    "           (\"classifier\", RandomForestClassifier())]\n",
    ")\n",
    "\n",
    "\n",
    "rf_params = {\n",
    "        \"classifier__max_depth\": [None],\n",
    "        \"classifier__max_features\": [1, 2],\n",
    "        \"classifier__min_samples_split\": [2, 3, 10],\n",
    "        \"classifier__min_samples_leaf\": [1, 3, 10],\n",
    "        \"classifier__bootstrap\": [False],\n",
    "        \"classifier__n_estimators\": [300, 500],\n",
    "        \"classifier__criterion\": [\"gini\",\"entropy\"],\n",
    "        \"classifier__class_weight\":[\"balanced\"]\n",
    "    }\n",
    "\n",
    "kfold = StratifiedKFold(n_splits=5, random_state=41, shuffle=True)\n",
    "random_forest_model = GridSearchCV(rand_forest,\n",
    "                    param_grid=rf_params,\n",
    "                    cv=kfold,\n",
    "                    n_jobs=-1,\n",
    "                    scoring=\"accuracy\",\n",
    "                    verbose=1,\n",
    "                    )\n",
    "\n",
    "random_forest_model.fit(X_train, y_train)"
   ]
  },
  {
   "cell_type": "code",
   "execution_count": 38,
   "metadata": {},
   "outputs": [
    {
     "name": "stdout",
     "output_type": "stream",
     "text": [
      "Max test accuracy_score: 0.8484848484848485\n",
      "classification_report:\n",
      "               precision    recall  f1-score   support\n",
      "\n",
      "           0       0.70      1.00      0.83        19\n",
      "           1       0.95      0.88      0.91        42\n",
      "           2       0.00      0.00      0.00         5\n",
      "\n",
      "    accuracy                           0.85        66\n",
      "   macro avg       0.55      0.63      0.58        66\n",
      "weighted avg       0.81      0.85      0.82        66\n",
      "\n"
     ]
    },
    {
     "data": {
      "text/plain": "<Figure size 640x480 with 1 Axes>",
      "image/png": "[encoded data removed]"
     },
     "metadata": {},
     "output_type": "display_data"
    }
   ],
   "source": [
    "seve_best_model(models_dict, random_forest_model, 'RandomForestClassifier', X_val, y_val)"
   ]
  },
  {
   "cell_type": "markdown",
   "source": [
    "### GradientBoostingClassifier"
   ],
   "metadata": {
    "collapsed": false
   }
  },
  {
   "cell_type": "code",
   "execution_count": 39,
   "metadata": {},
   "outputs": [
    {
     "name": "stdout",
     "output_type": "stream",
     "text": [
      "Fitting 5 folds for each of 72 candidates, totalling 360 fits\n"
     ]
    },
    {
     "data": {
      "text/plain": "GridSearchCV(cv=StratifiedKFold(n_splits=5, random_state=41, shuffle=True),\n             estimator=Pipeline(steps=[('preprocessor',\n                                        ColumnTransformer(transformers=[('num',\n                                                                         Pipeline(steps=[('imputer',\n                                                                                          SimpleImputer(strategy='median')),\n                                                                                         ('scaler',\n                                                                                          StandardScaler())]),\n                                                                         ['Depth',\n                                                                          'Gross',\n                                                                          'Netpay',\n                                                                          'Porosity',\n                                                                          'Permeability']),\n                                                                        ('cat',\n                                                                         OneHotEncoder(handle_unknown='ignore'),\n                                                                         ['Tec...\n                                                                          'Structural_setting',\n                                                                          'Period',\n                                                                          'Lithology'])])),\n                                       ('classifier',\n                                        GradientBoostingClassifier())]),\n             n_jobs=-1,\n             param_grid={'classifier__learning_rate': [0.1, 0.05, 0.01],\n                         'classifier__loss': ['log_loss'],\n                         'classifier__max_depth': [4, 8],\n                         'classifier__max_features': [0.3, 0.1],\n                         'classifier__min_samples_leaf': [100, 150],\n                         'classifier__n_estimators': [100, 200, 300]},\n             scoring='accuracy', verbose=1)",
      "text/html": "<style>#sk-container-id-7 {color: black;background-color: white;}#sk-container-id-7 pre{padding: 0;}#sk-container-id-7 div.sk-toggleable {background-color: white;}#sk-container-id-7 label.sk-toggleable__label {cursor: pointer;display: block;width: 100%;margin-bottom: 0;padding: 0.3em;box-sizing: border-box;text-align: center;}#sk-container-id-7 label.sk-toggleable__label-arrow:before {content: \"▸\";float: left;margin-right: 0.25em;color: #696969;}#sk-container-id-7 label.sk-toggleable__label-arrow:hover:before {color: black;}#sk-container-id-7 div.sk-estimator:hover label.sk-toggleable__label-arrow:before {color: black;}#sk-container-id-7 div.sk-toggleable__content {max-height: 0;max-width: 0;overflow: hidden;text-align: left;background-color: #f0f8ff;}#sk-container-id-7 div.sk-toggleable__content pre {margin: 0.2em;color: black;border-radius: 0.25em;background-color: #f0f8ff;}#sk-container-id-7 input.sk-toggleable__control:checked~div.sk-toggleable__content {max-height: 200px;max-width: 100%;overflow: auto;}#sk-container-id-7 input.sk-toggleable__control:checked~label.sk-toggleable__label-arrow:before {content: \"▾\";}#sk-container-id-7 div.sk-estimator input.sk-toggleable__control:checked~label.sk-toggleable__label {background-color: #d4ebff;}#sk-container-id-7 div.sk-label input.sk-toggleable__control:checked~label.sk-toggleable__label {background-color: #d4ebff;}#sk-container-id-7 input.sk-hidden--visually {border: 0;clip: rect(1px 1px 1px 1px);clip: rect(1px, 1px, 1px, 1px);height: 1px;margin: -1px;overflow: hidden;padding: 0;position: absolute;width: 1px;}#sk-container-id-7 div.sk-estimator {font-family: monospace;background-color: #f0f8ff;border: 1px dotted black;border-radius: 0.25em;box-sizing: border-box;margin-bottom: 0.5em;}#sk-container-id-7 div.sk-estimator:hover {background-color: #d4ebff;}#sk-container-id-7 div.sk-parallel-item::after {content: \"\";width: 100%;border-bottom: 1px solid gray;flex-grow: 1;}#sk-container-id-7 div.sk-label:hover label.sk-toggleable__label {background-color: #d4ebff;}#sk-container-id-7 div.sk-serial::before {content: \"\";position: absolute;border-left: 1px solid gray;box-sizing: border-box;top: 0;bottom: 0;left: 50%;z-index: 0;}#sk-container-id-7 div.sk-serial {display: flex;flex-direction: column;align-items: center;background-color: white;padding-right: 0.2em;padding-left: 0.2em;position: relative;}#sk-container-id-7 div.sk-item {position: relative;z-index: 1;}#sk-container-id-7 div.sk-parallel {display: flex;align-items: stretch;justify-content: center;background-color: white;position: relative;}#sk-container-id-7 div.sk-item::before, #sk-container-id-7 div.sk-parallel-item::before {content: \"\";position: absolute;border-left: 1px solid gray;box-sizing: border-box;top: 0;bottom: 0;left: 50%;z-index: -1;}#sk-container-id-7 div.sk-parallel-item {display: flex;flex-direction: column;z-index: 1;position: relative;background-color: white;}#sk-container-id-7 div.sk-parallel-item:first-child::after {align-self: flex-end;width: 50%;}#sk-container-id-7 div.sk-parallel-item:last-child::after {align-self: flex-start;width: 50%;}#sk-container-id-7 div.sk-parallel-item:only-child::after {width: 0;}#sk-container-id-7 div.sk-dashed-wrapped {border: 1px dashed gray;margin: 0 0.4em 0.5em 0.4em;box-sizing: border-box;padding-bottom: 0.4em;background-color: white;}#sk-container-id-7 div.sk-label label {font-family: monospace;font-weight: bold;display: inline-block;line-height: 1.2em;}#sk-container-id-7 div.sk-label-container {text-align: center;}#sk-container-id-7 div.sk-container {/* jupyter's `normalize.less` sets `[hidden] { display: none; }` but bootstrap.min.css set `[hidden] { display: none !important; }` so we also need the `!important` here to be able to override the default hidden behavior on the sphinx rendered scikit-learn.org. See: https://github.com/scikit-learn/scikit-learn/issues/21755 */display: inline-block !important;position: relative;}#sk-container-id-7 div.sk-text-repr-fallback {display: none;}</style><div id=\"sk-container-id-7\" class=\"sk-top-container\"><div class=\"sk-text-repr-fallback\"><pre>GridSearchCV(cv=StratifiedKFold(n_splits=5, random_state=41, shuffle=True),\n             estimator=Pipeline(steps=[(&#x27;preprocessor&#x27;,\n                                        ColumnTransformer(transformers=[(&#x27;num&#x27;,\n                                                                         Pipeline(steps=[(&#x27;imputer&#x27;,\n                                                                                          SimpleImputer(strategy=&#x27;median&#x27;)),\n                                                                                         (&#x27;scaler&#x27;,\n                                                                                          StandardScaler())]),\n                                                                         [&#x27;Depth&#x27;,\n                                                                          &#x27;Gross&#x27;,\n                                                                          &#x27;Netpay&#x27;,\n                                                                          &#x27;Porosity&#x27;,\n                                                                          &#x27;Permeability&#x27;]),\n                                                                        (&#x27;cat&#x27;,\n                                                                         OneHotEncoder(handle_unknown=&#x27;ignore&#x27;),\n                                                                         [&#x27;Tec...\n                                                                          &#x27;Structural_setting&#x27;,\n                                                                          &#x27;Period&#x27;,\n                                                                          &#x27;Lithology&#x27;])])),\n                                       (&#x27;classifier&#x27;,\n                                        GradientBoostingClassifier())]),\n             n_jobs=-1,\n             param_grid={&#x27;classifier__learning_rate&#x27;: [0.1, 0.05, 0.01],\n                         &#x27;classifier__loss&#x27;: [&#x27;log_loss&#x27;],\n                         &#x27;classifier__max_depth&#x27;: [4, 8],\n                         &#x27;classifier__max_features&#x27;: [0.3, 0.1],\n                         &#x27;classifier__min_samples_leaf&#x27;: [100, 150],\n                         &#x27;classifier__n_estimators&#x27;: [100, 200, 300]},\n             scoring=&#x27;accuracy&#x27;, verbose=1)</pre><b>In a Jupyter environment, please rerun this cell to show the HTML representation or trust the notebook. <br />On GitHub, the HTML representation is unable to render, please try loading this page with nbviewer.org.</b></div><div class=\"sk-container\" hidden><div class=\"sk-item sk-dashed-wrapped\"><div class=\"sk-label-container\"><div class=\"sk-label sk-toggleable\"><input class=\"sk-toggleable__control sk-hidden--visually\" id=\"sk-estimator-id-52\" type=\"checkbox\" ><label for=\"sk-estimator-id-52\" class=\"sk-toggleable__label sk-toggleable__label-arrow\">GridSearchCV</label><div class=\"sk-toggleable__content\"><pre>GridSearchCV(cv=StratifiedKFold(n_splits=5, random_state=41, shuffle=True),\n             estimator=Pipeline(steps=[(&#x27;preprocessor&#x27;,\n                                        ColumnTransformer(transformers=[(&#x27;num&#x27;,\n                                                                         Pipeline(steps=[(&#x27;imputer&#x27;,\n                                                                                          SimpleImputer(strategy=&#x27;median&#x27;)),\n                                                                                         (&#x27;scaler&#x27;,\n                                                                                          StandardScaler())]),\n                                                                         [&#x27;Depth&#x27;,\n                                                                          &#x27;Gross&#x27;,\n                                                                          &#x27;Netpay&#x27;,\n                                                                          &#x27;Porosity&#x27;,\n                                                                          &#x27;Permeability&#x27;]),\n                                                                        (&#x27;cat&#x27;,\n                                                                         OneHotEncoder(handle_unknown=&#x27;ignore&#x27;),\n                                                                         [&#x27;Tec...\n                                                                          &#x27;Structural_setting&#x27;,\n                                                                          &#x27;Period&#x27;,\n                                                                          &#x27;Lithology&#x27;])])),\n                                       (&#x27;classifier&#x27;,\n                                        GradientBoostingClassifier())]),\n             n_jobs=-1,\n             param_grid={&#x27;classifier__learning_rate&#x27;: [0.1, 0.05, 0.01],\n                         &#x27;classifier__loss&#x27;: [&#x27;log_loss&#x27;],\n                         &#x27;classifier__max_depth&#x27;: [4, 8],\n                         &#x27;classifier__max_features&#x27;: [0.3, 0.1],\n                         &#x27;classifier__min_samples_leaf&#x27;: [100, 150],\n                         &#x27;classifier__n_estimators&#x27;: [100, 200, 300]},\n             scoring=&#x27;accuracy&#x27;, verbose=1)</pre></div></div></div><div class=\"sk-parallel\"><div class=\"sk-parallel-item\"><div class=\"sk-item\"><div class=\"sk-label-container\"><div class=\"sk-label sk-toggleable\"><input class=\"sk-toggleable__control sk-hidden--visually\" id=\"sk-estimator-id-53\" type=\"checkbox\" ><label for=\"sk-estimator-id-53\" class=\"sk-toggleable__label sk-toggleable__label-arrow\">estimator: Pipeline</label><div class=\"sk-toggleable__content\"><pre>Pipeline(steps=[(&#x27;preprocessor&#x27;,\n                 ColumnTransformer(transformers=[(&#x27;num&#x27;,\n                                                  Pipeline(steps=[(&#x27;imputer&#x27;,\n                                                                   SimpleImputer(strategy=&#x27;median&#x27;)),\n                                                                  (&#x27;scaler&#x27;,\n                                                                   StandardScaler())]),\n                                                  [&#x27;Depth&#x27;, &#x27;Gross&#x27;, &#x27;Netpay&#x27;,\n                                                   &#x27;Porosity&#x27;,\n                                                   &#x27;Permeability&#x27;]),\n                                                 (&#x27;cat&#x27;,\n                                                  OneHotEncoder(handle_unknown=&#x27;ignore&#x27;),\n                                                  [&#x27;Tectonic_regime&#x27;,\n                                                   &#x27;Hydrocarbon_type&#x27;,\n                                                   &#x27;Reservoir_status&#x27;,\n                                                   &#x27;Structural_setting&#x27;,\n                                                   &#x27;Period&#x27;, &#x27;Lithology&#x27;])])),\n                (&#x27;classifier&#x27;, GradientBoostingClassifier())])</pre></div></div></div><div class=\"sk-serial\"><div class=\"sk-item\"><div class=\"sk-serial\"><div class=\"sk-item sk-dashed-wrapped\"><div class=\"sk-label-container\"><div class=\"sk-label sk-toggleable\"><input class=\"sk-toggleable__control sk-hidden--visually\" id=\"sk-estimator-id-54\" type=\"checkbox\" ><label for=\"sk-estimator-id-54\" class=\"sk-toggleable__label sk-toggleable__label-arrow\">preprocessor: ColumnTransformer</label><div class=\"sk-toggleable__content\"><pre>ColumnTransformer(transformers=[(&#x27;num&#x27;,\n                                 Pipeline(steps=[(&#x27;imputer&#x27;,\n                                                  SimpleImputer(strategy=&#x27;median&#x27;)),\n                                                 (&#x27;scaler&#x27;, StandardScaler())]),\n                                 [&#x27;Depth&#x27;, &#x27;Gross&#x27;, &#x27;Netpay&#x27;, &#x27;Porosity&#x27;,\n                                  &#x27;Permeability&#x27;]),\n                                (&#x27;cat&#x27;, OneHotEncoder(handle_unknown=&#x27;ignore&#x27;),\n                                 [&#x27;Tectonic_regime&#x27;, &#x27;Hydrocarbon_type&#x27;,\n                                  &#x27;Reservoir_status&#x27;, &#x27;Structural_setting&#x27;,\n                                  &#x27;Period&#x27;, &#x27;Lithology&#x27;])])</pre></div></div></div><div class=\"sk-parallel\"><div class=\"sk-parallel-item\"><div class=\"sk-item\"><div class=\"sk-label-container\"><div class=\"sk-label sk-toggleable\"><input class=\"sk-toggleable__control sk-hidden--visually\" id=\"sk-estimator-id-55\" type=\"checkbox\" ><label for=\"sk-estimator-id-55\" class=\"sk-toggleable__label sk-toggleable__label-arrow\">num</label><div class=\"sk-toggleable__content\"><pre>[&#x27;Depth&#x27;, &#x27;Gross&#x27;, &#x27;Netpay&#x27;, &#x27;Porosity&#x27;, &#x27;Permeability&#x27;]</pre></div></div></div><div class=\"sk-serial\"><div class=\"sk-item\"><div class=\"sk-serial\"><div class=\"sk-item\"><div class=\"sk-estimator sk-toggleable\"><input class=\"sk-toggleable__control sk-hidden--visually\" id=\"sk-estimator-id-56\" type=\"checkbox\" ><label for=\"sk-estimator-id-56\" class=\"sk-toggleable__label sk-toggleable__label-arrow\">SimpleImputer</label><div class=\"sk-toggleable__content\"><pre>SimpleImputer(strategy=&#x27;median&#x27;)</pre></div></div></div><div class=\"sk-item\"><div class=\"sk-estimator sk-toggleable\"><input class=\"sk-toggleable__control sk-hidden--visually\" id=\"sk-estimator-id-57\" type=\"checkbox\" ><label for=\"sk-estimator-id-57\" class=\"sk-toggleable__label sk-toggleable__label-arrow\">StandardScaler</label><div class=\"sk-toggleable__content\"><pre>StandardScaler()</pre></div></div></div></div></div></div></div></div><div class=\"sk-parallel-item\"><div class=\"sk-item\"><div class=\"sk-label-container\"><div class=\"sk-label sk-toggleable\"><input class=\"sk-toggleable__control sk-hidden--visually\" id=\"sk-estimator-id-58\" type=\"checkbox\" ><label for=\"sk-estimator-id-58\" class=\"sk-toggleable__label sk-toggleable__label-arrow\">cat</label><div class=\"sk-toggleable__content\"><pre>[&#x27;Tectonic_regime&#x27;, &#x27;Hydrocarbon_type&#x27;, &#x27;Reservoir_status&#x27;, &#x27;Structural_setting&#x27;, &#x27;Period&#x27;, &#x27;Lithology&#x27;]</pre></div></div></div><div class=\"sk-serial\"><div class=\"sk-item\"><div class=\"sk-estimator sk-toggleable\"><input class=\"sk-toggleable__control sk-hidden--visually\" id=\"sk-estimator-id-59\" type=\"checkbox\" ><label for=\"sk-estimator-id-59\" class=\"sk-toggleable__label sk-toggleable__label-arrow\">OneHotEncoder</label><div class=\"sk-toggleable__content\"><pre>OneHotEncoder(handle_unknown=&#x27;ignore&#x27;)</pre></div></div></div></div></div></div></div></div><div class=\"sk-item\"><div class=\"sk-estimator sk-toggleable\"><input class=\"sk-toggleable__control sk-hidden--visually\" id=\"sk-estimator-id-60\" type=\"checkbox\" ><label for=\"sk-estimator-id-60\" class=\"sk-toggleable__label sk-toggleable__label-arrow\">GradientBoostingClassifier</label><div class=\"sk-toggleable__content\"><pre>GradientBoostingClassifier()</pre></div></div></div></div></div></div></div></div></div></div></div></div>"
     },
     "execution_count": 39,
     "metadata": {},
     "output_type": "execute_result"
    }
   ],
   "source": [
    "from sklearn.ensemble import GradientBoostingClassifier\n",
    "\n",
    "numeric_transformer = Pipeline(\n",
    "    steps=[(\"imputer\", SimpleImputer(strategy=\"median\")),\n",
    "           (\"scaler\", StandardScaler())]\n",
    ")\n",
    "preprocessor = ColumnTransformer(\n",
    "    transformers=[\n",
    "        (\"num\", numeric_transformer, num_cols),\n",
    "        (\"cat\", OneHotEncoder(handle_unknown=\"ignore\"), cat_cols),\n",
    "    ]\n",
    ")\n",
    "\n",
    "gb_cls = Pipeline(\n",
    "    steps=[(\"preprocessor\", preprocessor),\n",
    "           (\"classifier\", GradientBoostingClassifier())]\n",
    ")\n",
    "\n",
    "gb_params = {\n",
    "        'classifier__loss' : [\"log_loss\"],\n",
    "        'classifier__n_estimators' : [100, 200, 300],\n",
    "        'classifier__learning_rate': [0.1, 0.05, 0.01],\n",
    "        'classifier__max_depth': [4, 8],\n",
    "        'classifier__min_samples_leaf': [100, 150],\n",
    "        'classifier__max_features': [0.3, 0.1]}\n",
    "\n",
    "kfold = StratifiedKFold(n_splits=5, random_state=41, shuffle=True)\n",
    "gb_model = GridSearchCV(gb_cls,\n",
    "                    param_grid=gb_params,\n",
    "                    cv=kfold,\n",
    "                    n_jobs=-1,\n",
    "                    scoring=\"accuracy\",\n",
    "                    verbose=1,\n",
    "                    )\n",
    "\n",
    "gb_model.fit(X_train, y_train)"
   ]
  },
  {
   "cell_type": "code",
   "execution_count": 40,
   "outputs": [
    {
     "name": "stdout",
     "output_type": "stream",
     "text": [
      "Max test accuracy_score: 0.7272727272727273\n",
      "classification_report:\n",
      "               precision    recall  f1-score   support\n",
      "\n",
      "           0       0.53      0.95      0.68        19\n",
      "           1       0.94      0.71      0.81        42\n",
      "           2       0.00      0.00      0.00         5\n",
      "\n",
      "    accuracy                           0.73        66\n",
      "   macro avg       0.49      0.55      0.50        66\n",
      "weighted avg       0.75      0.73      0.71        66\n",
      "\n"
     ]
    },
    {
     "data": {
      "text/plain": "<Figure size 640x480 with 1 Axes>",
      "image/png": "[encoded data removed]"
     },
     "metadata": {},
     "output_type": "display_data"
    }
   ],
   "source": [
    "seve_best_model(models_dict, gb_model, 'GradientBoostingClassifier', X_val, y_val)"
   ],
   "metadata": {
    "collapsed": false,
    "pycharm": {
     "name": "#%%\n"
    }
   }
  },
  {
   "cell_type": "markdown",
   "source": [
    "### MLPClassifier"
   ],
   "metadata": {
    "collapsed": false
   }
  },
  {
   "cell_type": "code",
   "execution_count": 41,
   "metadata": {},
   "outputs": [
    {
     "name": "stdout",
     "output_type": "stream",
     "text": [
      "Fitting 5 folds for each of 48 candidates, totalling 240 fits\n"
     ]
    },
    {
     "data": {
      "text/plain": "GridSearchCV(cv=StratifiedKFold(n_splits=5, random_state=41, shuffle=True),\n             estimator=Pipeline(steps=[('preprocessor',\n                                        ColumnTransformer(transformers=[('num',\n                                                                         Pipeline(steps=[('imputer',\n                                                                                          SimpleImputer(strategy='median')),\n                                                                                         ('scaler',\n                                                                                          StandardScaler())]),\n                                                                         ['Depth',\n                                                                          'Gross',\n                                                                          'Netpay',\n                                                                          'Porosity',\n                                                                          'Permeability']),\n                                                                        ('cat',\n                                                                         OneHotEncoder(handle_unknown='ignore'),\n                                                                         ['Tec...\n                                       ('classifier', MLPClassifier())]),\n             n_jobs=-1,\n             param_grid={'classifier__activation': ['tanh', 'relu'],\n                         'classifier__alpha': [0.0001, 0.05],\n                         'classifier__early_stopping': [True],\n                         'classifier__hidden_layer_sizes': [(50, 50, 50),\n                                                            (50, 100, 50),\n                                                            100],\n                         'classifier__learning_rate': ['constant', 'adaptive'],\n                         'classifier__max_iter': [400],\n                         'classifier__solver': ['sgd', 'adam']},\n             scoring='accuracy', verbose=1)",
      "text/html": "<style>#sk-container-id-8 {color: black;background-color: white;}#sk-container-id-8 pre{padding: 0;}#sk-container-id-8 div.sk-toggleable {background-color: white;}#sk-container-id-8 label.sk-toggleable__label {cursor: pointer;display: block;width: 100%;margin-bottom: 0;padding: 0.3em;box-sizing: border-box;text-align: center;}#sk-container-id-8 label.sk-toggleable__label-arrow:before {content: \"▸\";float: left;margin-right: 0.25em;color: #696969;}#sk-container-id-8 label.sk-toggleable__label-arrow:hover:before {color: black;}#sk-container-id-8 div.sk-estimator:hover label.sk-toggleable__label-arrow:before {color: black;}#sk-container-id-8 div.sk-toggleable__content {max-height: 0;max-width: 0;overflow: hidden;text-align: left;background-color: #f0f8ff;}#sk-container-id-8 div.sk-toggleable__content pre {margin: 0.2em;color: black;border-radius: 0.25em;background-color: #f0f8ff;}#sk-container-id-8 input.sk-toggleable__control:checked~div.sk-toggleable__content {max-height: 200px;max-width: 100%;overflow: auto;}#sk-container-id-8 input.sk-toggleable__control:checked~label.sk-toggleable__label-arrow:before {content: \"▾\";}#sk-container-id-8 div.sk-estimator input.sk-toggleable__control:checked~label.sk-toggleable__label {background-color: #d4ebff;}#sk-container-id-8 div.sk-label input.sk-toggleable__control:checked~label.sk-toggleable__label {background-color: #d4ebff;}#sk-container-id-8 input.sk-hidden--visually {border: 0;clip: rect(1px 1px 1px 1px);clip: rect(1px, 1px, 1px, 1px);height: 1px;margin: -1px;overflow: hidden;padding: 0;position: absolute;width: 1px;}#sk-container-id-8 div.sk-estimator {font-family: monospace;background-color: #f0f8ff;border: 1px dotted black;border-radius: 0.25em;box-sizing: border-box;margin-bottom: 0.5em;}#sk-container-id-8 div.sk-estimator:hover {background-color: #d4ebff;}#sk-container-id-8 div.sk-parallel-item::after {content: \"\";width: 100%;border-bottom: 1px solid gray;flex-grow: 1;}#sk-container-id-8 div.sk-label:hover label.sk-toggleable__label {background-color: #d4ebff;}#sk-container-id-8 div.sk-serial::before {content: \"\";position: absolute;border-left: 1px solid gray;box-sizing: border-box;top: 0;bottom: 0;left: 50%;z-index: 0;}#sk-container-id-8 div.sk-serial {display: flex;flex-direction: column;align-items: center;background-color: white;padding-right: 0.2em;padding-left: 0.2em;position: relative;}#sk-container-id-8 div.sk-item {position: relative;z-index: 1;}#sk-container-id-8 div.sk-parallel {display: flex;align-items: stretch;justify-content: center;background-color: white;position: relative;}#sk-container-id-8 div.sk-item::before, #sk-container-id-8 div.sk-parallel-item::before {content: \"\";position: absolute;border-left: 1px solid gray;box-sizing: border-box;top: 0;bottom: 0;left: 50%;z-index: -1;}#sk-container-id-8 div.sk-parallel-item {display: flex;flex-direction: column;z-index: 1;position: relative;background-color: white;}#sk-container-id-8 div.sk-parallel-item:first-child::after {align-self: flex-end;width: 50%;}#sk-container-id-8 div.sk-parallel-item:last-child::after {align-self: flex-start;width: 50%;}#sk-container-id-8 div.sk-parallel-item:only-child::after {width: 0;}#sk-container-id-8 div.sk-dashed-wrapped {border: 1px dashed gray;margin: 0 0.4em 0.5em 0.4em;box-sizing: border-box;padding-bottom: 0.4em;background-color: white;}#sk-container-id-8 div.sk-label label {font-family: monospace;font-weight: bold;display: inline-block;line-height: 1.2em;}#sk-container-id-8 div.sk-label-container {text-align: center;}#sk-container-id-8 div.sk-container {/* jupyter's `normalize.less` sets `[hidden] { display: none; }` but bootstrap.min.css set `[hidden] { display: none !important; }` so we also need the `!important` here to be able to override the default hidden behavior on the sphinx rendered scikit-learn.org. See: https://github.com/scikit-learn/scikit-learn/issues/21755 */display: inline-block !important;position: relative;}#sk-container-id-8 div.sk-text-repr-fallback {display: none;}</style><div id=\"sk-container-id-8\" class=\"sk-top-container\"><div class=\"sk-text-repr-fallback\"><pre>GridSearchCV(cv=StratifiedKFold(n_splits=5, random_state=41, shuffle=True),\n             estimator=Pipeline(steps=[(&#x27;preprocessor&#x27;,\n                                        ColumnTransformer(transformers=[(&#x27;num&#x27;,\n                                                                         Pipeline(steps=[(&#x27;imputer&#x27;,\n                                                                                          SimpleImputer(strategy=&#x27;median&#x27;)),\n                                                                                         (&#x27;scaler&#x27;,\n                                                                                          StandardScaler())]),\n                                                                         [&#x27;Depth&#x27;,\n                                                                          &#x27;Gross&#x27;,\n                                                                          &#x27;Netpay&#x27;,\n                                                                          &#x27;Porosity&#x27;,\n                                                                          &#x27;Permeability&#x27;]),\n                                                                        (&#x27;cat&#x27;,\n                                                                         OneHotEncoder(handle_unknown=&#x27;ignore&#x27;),\n                                                                         [&#x27;Tec...\n                                       (&#x27;classifier&#x27;, MLPClassifier())]),\n             n_jobs=-1,\n             param_grid={&#x27;classifier__activation&#x27;: [&#x27;tanh&#x27;, &#x27;relu&#x27;],\n                         &#x27;classifier__alpha&#x27;: [0.0001, 0.05],\n                         &#x27;classifier__early_stopping&#x27;: [True],\n                         &#x27;classifier__hidden_layer_sizes&#x27;: [(50, 50, 50),\n                                                            (50, 100, 50),\n                                                            100],\n                         &#x27;classifier__learning_rate&#x27;: [&#x27;constant&#x27;, &#x27;adaptive&#x27;],\n                         &#x27;classifier__max_iter&#x27;: [400],\n                         &#x27;classifier__solver&#x27;: [&#x27;sgd&#x27;, &#x27;adam&#x27;]},\n             scoring=&#x27;accuracy&#x27;, verbose=1)</pre><b>In a Jupyter environment, please rerun this cell to show the HTML representation or trust the notebook. <br />On GitHub, the HTML representation is unable to render, please try loading this page with nbviewer.org.</b></div><div class=\"sk-container\" hidden><div class=\"sk-item sk-dashed-wrapped\"><div class=\"sk-label-container\"><div class=\"sk-label sk-toggleable\"><input class=\"sk-toggleable__control sk-hidden--visually\" id=\"sk-estimator-id-61\" type=\"checkbox\" ><label for=\"sk-estimator-id-61\" class=\"sk-toggleable__label sk-toggleable__label-arrow\">GridSearchCV</label><div class=\"sk-toggleable__content\"><pre>GridSearchCV(cv=StratifiedKFold(n_splits=5, random_state=41, shuffle=True),\n             estimator=Pipeline(steps=[(&#x27;preprocessor&#x27;,\n                                        ColumnTransformer(transformers=[(&#x27;num&#x27;,\n                                                                         Pipeline(steps=[(&#x27;imputer&#x27;,\n                                                                                          SimpleImputer(strategy=&#x27;median&#x27;)),\n                                                                                         (&#x27;scaler&#x27;,\n                                                                                          StandardScaler())]),\n                                                                         [&#x27;Depth&#x27;,\n                                                                          &#x27;Gross&#x27;,\n                                                                          &#x27;Netpay&#x27;,\n                                                                          &#x27;Porosity&#x27;,\n                                                                          &#x27;Permeability&#x27;]),\n                                                                        (&#x27;cat&#x27;,\n                                                                         OneHotEncoder(handle_unknown=&#x27;ignore&#x27;),\n                                                                         [&#x27;Tec...\n                                       (&#x27;classifier&#x27;, MLPClassifier())]),\n             n_jobs=-1,\n             param_grid={&#x27;classifier__activation&#x27;: [&#x27;tanh&#x27;, &#x27;relu&#x27;],\n                         &#x27;classifier__alpha&#x27;: [0.0001, 0.05],\n                         &#x27;classifier__early_stopping&#x27;: [True],\n                         &#x27;classifier__hidden_layer_sizes&#x27;: [(50, 50, 50),\n                                                            (50, 100, 50),\n                                                            100],\n                         &#x27;classifier__learning_rate&#x27;: [&#x27;constant&#x27;, &#x27;adaptive&#x27;],\n                         &#x27;classifier__max_iter&#x27;: [400],\n                         &#x27;classifier__solver&#x27;: [&#x27;sgd&#x27;, &#x27;adam&#x27;]},\n             scoring=&#x27;accuracy&#x27;, verbose=1)</pre></div></div></div><div class=\"sk-parallel\"><div class=\"sk-parallel-item\"><div class=\"sk-item\"><div class=\"sk-label-container\"><div class=\"sk-label sk-toggleable\"><input class=\"sk-toggleable__control sk-hidden--visually\" id=\"sk-estimator-id-62\" type=\"checkbox\" ><label for=\"sk-estimator-id-62\" class=\"sk-toggleable__label sk-toggleable__label-arrow\">estimator: Pipeline</label><div class=\"sk-toggleable__content\"><pre>Pipeline(steps=[(&#x27;preprocessor&#x27;,\n                 ColumnTransformer(transformers=[(&#x27;num&#x27;,\n                                                  Pipeline(steps=[(&#x27;imputer&#x27;,\n                                                                   SimpleImputer(strategy=&#x27;median&#x27;)),\n                                                                  (&#x27;scaler&#x27;,\n                                                                   StandardScaler())]),\n                                                  [&#x27;Depth&#x27;, &#x27;Gross&#x27;, &#x27;Netpay&#x27;,\n                                                   &#x27;Porosity&#x27;,\n                                                   &#x27;Permeability&#x27;]),\n                                                 (&#x27;cat&#x27;,\n                                                  OneHotEncoder(handle_unknown=&#x27;ignore&#x27;),\n                                                  [&#x27;Tectonic_regime&#x27;,\n                                                   &#x27;Hydrocarbon_type&#x27;,\n                                                   &#x27;Reservoir_status&#x27;,\n                                                   &#x27;Structural_setting&#x27;,\n                                                   &#x27;Period&#x27;, &#x27;Lithology&#x27;])])),\n                (&#x27;classifier&#x27;, MLPClassifier())])</pre></div></div></div><div class=\"sk-serial\"><div class=\"sk-item\"><div class=\"sk-serial\"><div class=\"sk-item sk-dashed-wrapped\"><div class=\"sk-label-container\"><div class=\"sk-label sk-toggleable\"><input class=\"sk-toggleable__control sk-hidden--visually\" id=\"sk-estimator-id-63\" type=\"checkbox\" ><label for=\"sk-estimator-id-63\" class=\"sk-toggleable__label sk-toggleable__label-arrow\">preprocessor: ColumnTransformer</label><div class=\"sk-toggleable__content\"><pre>ColumnTransformer(transformers=[(&#x27;num&#x27;,\n                                 Pipeline(steps=[(&#x27;imputer&#x27;,\n                                                  SimpleImputer(strategy=&#x27;median&#x27;)),\n                                                 (&#x27;scaler&#x27;, StandardScaler())]),\n                                 [&#x27;Depth&#x27;, &#x27;Gross&#x27;, &#x27;Netpay&#x27;, &#x27;Porosity&#x27;,\n                                  &#x27;Permeability&#x27;]),\n                                (&#x27;cat&#x27;, OneHotEncoder(handle_unknown=&#x27;ignore&#x27;),\n                                 [&#x27;Tectonic_regime&#x27;, &#x27;Hydrocarbon_type&#x27;,\n                                  &#x27;Reservoir_status&#x27;, &#x27;Structural_setting&#x27;,\n                                  &#x27;Period&#x27;, &#x27;Lithology&#x27;])])</pre></div></div></div><div class=\"sk-parallel\"><div class=\"sk-parallel-item\"><div class=\"sk-item\"><div class=\"sk-label-container\"><div class=\"sk-label sk-toggleable\"><input class=\"sk-toggleable__control sk-hidden--visually\" id=\"sk-estimator-id-64\" type=\"checkbox\" ><label for=\"sk-estimator-id-64\" class=\"sk-toggleable__label sk-toggleable__label-arrow\">num</label><div class=\"sk-toggleable__content\"><pre>[&#x27;Depth&#x27;, &#x27;Gross&#x27;, &#x27;Netpay&#x27;, &#x27;Porosity&#x27;, &#x27;Permeability&#x27;]</pre></div></div></div><div class=\"sk-serial\"><div class=\"sk-item\"><div class=\"sk-serial\"><div class=\"sk-item\"><div class=\"sk-estimator sk-toggleable\"><input class=\"sk-toggleable__control sk-hidden--visually\" id=\"sk-estimator-id-65\" type=\"checkbox\" ><label for=\"sk-estimator-id-65\" class=\"sk-toggleable__label sk-toggleable__label-arrow\">SimpleImputer</label><div class=\"sk-toggleable__content\"><pre>SimpleImputer(strategy=&#x27;median&#x27;)</pre></div></div></div><div class=\"sk-item\"><div class=\"sk-estimator sk-toggleable\"><input class=\"sk-toggleable__control sk-hidden--visually\" id=\"sk-estimator-id-66\" type=\"checkbox\" ><label for=\"sk-estimator-id-66\" class=\"sk-toggleable__label sk-toggleable__label-arrow\">StandardScaler</label><div class=\"sk-toggleable__content\"><pre>StandardScaler()</pre></div></div></div></div></div></div></div></div><div class=\"sk-parallel-item\"><div class=\"sk-item\"><div class=\"sk-label-container\"><div class=\"sk-label sk-toggleable\"><input class=\"sk-toggleable__control sk-hidden--visually\" id=\"sk-estimator-id-67\" type=\"checkbox\" ><label for=\"sk-estimator-id-67\" class=\"sk-toggleable__label sk-toggleable__label-arrow\">cat</label><div class=\"sk-toggleable__content\"><pre>[&#x27;Tectonic_regime&#x27;, &#x27;Hydrocarbon_type&#x27;, &#x27;Reservoir_status&#x27;, &#x27;Structural_setting&#x27;, &#x27;Period&#x27;, &#x27;Lithology&#x27;]</pre></div></div></div><div class=\"sk-serial\"><div class=\"sk-item\"><div class=\"sk-estimator sk-toggleable\"><input class=\"sk-toggleable__control sk-hidden--visually\" id=\"sk-estimator-id-68\" type=\"checkbox\" ><label for=\"sk-estimator-id-68\" class=\"sk-toggleable__label sk-toggleable__label-arrow\">OneHotEncoder</label><div class=\"sk-toggleable__content\"><pre>OneHotEncoder(handle_unknown=&#x27;ignore&#x27;)</pre></div></div></div></div></div></div></div></div><div class=\"sk-item\"><div class=\"sk-estimator sk-toggleable\"><input class=\"sk-toggleable__control sk-hidden--visually\" id=\"sk-estimator-id-69\" type=\"checkbox\" ><label for=\"sk-estimator-id-69\" class=\"sk-toggleable__label sk-toggleable__label-arrow\">MLPClassifier</label><div class=\"sk-toggleable__content\"><pre>MLPClassifier()</pre></div></div></div></div></div></div></div></div></div></div></div></div>"
     },
     "execution_count": 41,
     "metadata": {},
     "output_type": "execute_result"
    }
   ],
   "source": [
    "from sklearn.neural_network import MLPClassifier\n",
    "\n",
    "numeric_transformer = Pipeline(\n",
    "    steps=[(\"imputer\", SimpleImputer(strategy=\"median\")),\n",
    "           (\"scaler\", StandardScaler())]\n",
    ")\n",
    "preprocessor = ColumnTransformer(\n",
    "    transformers=[\n",
    "        (\"num\", numeric_transformer, num_cols),\n",
    "        (\"cat\", OneHotEncoder(handle_unknown=\"ignore\"), cat_cols),\n",
    "    ]\n",
    ")\n",
    "\n",
    "mlp_cls = Pipeline(\n",
    "    steps=[(\"preprocessor\", preprocessor),\n",
    "           (\"classifier\", MLPClassifier())]\n",
    ")\n",
    "\n",
    "\n",
    "mlp_params = {\n",
    "        'classifier__hidden_layer_sizes': [(50, 50, 50), (50, 100, 50), 100],\n",
    "        'classifier__activation': ['tanh', 'relu'],\n",
    "        'classifier__solver': ['sgd', 'adam'],\n",
    "        'classifier__alpha': [0.0001, 0.05],\n",
    "        'classifier__learning_rate': ['constant', 'adaptive'],\n",
    "        'classifier__max_iter': [400],\n",
    "        'classifier__early_stopping': [True]}\n",
    "\n",
    "kfold = StratifiedKFold(n_splits=5, random_state=41, shuffle=True)\n",
    "mlp_model = GridSearchCV(mlp_cls,\n",
    "                    param_grid=mlp_params,\n",
    "                    cv=kfold,\n",
    "                    n_jobs=-1,\n",
    "                    scoring=\"accuracy\",\n",
    "                    verbose=1,\n",
    "                    )\n",
    "mlp_model.fit(X_train, y_train)"
   ]
  },
  {
   "cell_type": "code",
   "execution_count": 42,
   "outputs": [
    {
     "name": "stdout",
     "output_type": "stream",
     "text": [
      "Max test accuracy_score: 0.8333333333333334\n",
      "classification_report:\n",
      "               precision    recall  f1-score   support\n",
      "\n",
      "           0       0.73      0.84      0.78        19\n",
      "           1       0.89      0.93      0.91        42\n",
      "           2       0.00      0.00      0.00         5\n",
      "\n",
      "    accuracy                           0.83        66\n",
      "   macro avg       0.54      0.59      0.56        66\n",
      "weighted avg       0.77      0.83      0.80        66\n",
      "\n"
     ]
    },
    {
     "data": {
      "text/plain": "<Figure size 640x480 with 1 Axes>",
      "image/png": "[encoded data removed]"
     },
     "metadata": {},
     "output_type": "display_data"
    }
   ],
   "source": [
    "seve_best_model(models_dict, mlp_model, 'MLPClassifier', X_val, y_val)"
   ],
   "metadata": {
    "collapsed": false,
    "pycharm": {
     "name": "#%%\n"
    }
   }
  },
  {
   "cell_type": "markdown",
   "source": [
    "# Write best model prediction to file"
   ],
   "metadata": {
    "collapsed": false
   }
  },
  {
   "cell_type": "code",
   "execution_count": 43,
   "outputs": [
    {
     "data": {
      "text/plain": "                   model_name  \\\n7  GradientBoostingClassifier   \n3               XGBClassifier   \n2      RandomForestClassifier   \n4               XGBClassifier   \n0          CatBoostClassifier   \n8               MLPClassifier   \n5        LogisticRegressionCV   \n6      RandomForestClassifier   \n1        LogisticRegressionCV   \n\n                                                                                                                                                                                                     model  \\\n7  GridSearchCV(cv=StratifiedKFold(n_splits=5, random_state=41, shuffle=True),\\n             estimator=Pipeline(steps=[('preprocessor',\\n                                        ColumnTransformer(tran...   \n3  GridSearchCV(cv=3,\\n             estimator=Pipeline(steps=[('preprocessor',\\n                                        ColumnTransformer(transformers=[('num',\\n                                      ...   \n2  (ColumnTransformer(transformers=[('num',\\n                                 Pipeline(steps=[('imputer',\\n                                                  SimpleImputer(strategy='median')),\\n      ...   \n4  GridSearchCV(cv=3,\\n             estimator=Pipeline(steps=[('preprocessor',\\n                                        ColumnTransformer(transformers=[('num',\\n                                      ...   \n0                                                                                                                                              <catboost.core.CatBoostClassifier object at 0x7f7fad5484c0>   \n8  GridSearchCV(cv=StratifiedKFold(n_splits=5, random_state=41, shuffle=True),\\n             estimator=Pipeline(steps=[('preprocessor',\\n                                        ColumnTransformer(tran...   \n5  (ColumnTransformer(transformers=[('num',\\n                                 Pipeline(steps=[('imputer',\\n                                                  SimpleImputer(strategy='median')),\\n      ...   \n6  GridSearchCV(cv=StratifiedKFold(n_splits=5, random_state=41, shuffle=True),\\n             estimator=Pipeline(steps=[('preprocessor',\\n                                        ColumnTransformer(tran...   \n1  (ColumnTransformer(transformers=[('num',\\n                                 Pipeline(steps=[('imputer',\\n                                                  SimpleImputer(strategy='median')),\\n      ...   \n\n         type  threshold  val_accuracy  \n7      binary   0.659054      0.787879  \n3  multiclass        NaN      0.806452  \n2  multiclass        NaN      0.822581  \n4      binary   0.658898      0.848485  \n0  multiclass        NaN      0.870968  \n8      binary   0.658468      0.878788  \n5      binary   0.153357      0.893939  \n6      binary   0.637860      0.893939  \n1  multiclass        NaN      0.903226  ",
      "text/html": "<div>\n<style scoped>\n    .dataframe tbody tr th:only-of-type {\n        vertical-align: middle;\n    }\n\n    .dataframe tbody tr th {\n        vertical-align: top;\n    }\n\n    .dataframe thead th {\n        text-align: right;\n    }\n</style>\n<table border=\"1\" class=\"dataframe\">\n  <thead>\n    <tr style=\"text-align: right;\">\n      <th></th>\n      <th>model_name</th>\n      <th>model</th>\n      <th>type</th>\n      <th>threshold</th>\n      <th>val_accuracy</th>\n    </tr>\n  </thead>\n  <tbody>\n    <tr>\n      <th>7</th>\n      <td>GradientBoostingClassifier</td>\n      <td>GridSearchCV(cv=StratifiedKFold(n_splits=5, random_state=41, shuffle=True),\\n             estimator=Pipeline(steps=[('preprocessor',\\n                                        ColumnTransformer(tran...</td>\n      <td>binary</td>\n      <td>0.659054</td>\n      <td>0.787879</td>\n    </tr>\n    <tr>\n      <th>3</th>\n      <td>XGBClassifier</td>\n      <td>GridSearchCV(cv=3,\\n             estimator=Pipeline(steps=[('preprocessor',\\n                                        ColumnTransformer(transformers=[('num',\\n                                      ...</td>\n      <td>multiclass</td>\n      <td>NaN</td>\n      <td>0.806452</td>\n    </tr>\n    <tr>\n      <th>2</th>\n      <td>RandomForestClassifier</td>\n      <td>(ColumnTransformer(transformers=[('num',\\n                                 Pipeline(steps=[('imputer',\\n                                                  SimpleImputer(strategy='median')),\\n      ...</td>\n      <td>multiclass</td>\n      <td>NaN</td>\n      <td>0.822581</td>\n    </tr>\n    <tr>\n      <th>4</th>\n      <td>XGBClassifier</td>\n      <td>GridSearchCV(cv=3,\\n             estimator=Pipeline(steps=[('preprocessor',\\n                                        ColumnTransformer(transformers=[('num',\\n                                      ...</td>\n      <td>binary</td>\n      <td>0.658898</td>\n      <td>0.848485</td>\n    </tr>\n    <tr>\n      <th>0</th>\n      <td>CatBoostClassifier</td>\n      <td>&lt;catboost.core.CatBoostClassifier object at 0x7f7fad5484c0&gt;</td>\n      <td>multiclass</td>\n      <td>NaN</td>\n      <td>0.870968</td>\n    </tr>\n    <tr>\n      <th>8</th>\n      <td>MLPClassifier</td>\n      <td>GridSearchCV(cv=StratifiedKFold(n_splits=5, random_state=41, shuffle=True),\\n             estimator=Pipeline(steps=[('preprocessor',\\n                                        ColumnTransformer(tran...</td>\n      <td>binary</td>\n      <td>0.658468</td>\n      <td>0.878788</td>\n    </tr>\n    <tr>\n      <th>5</th>\n      <td>LogisticRegressionCV</td>\n      <td>(ColumnTransformer(transformers=[('num',\\n                                 Pipeline(steps=[('imputer',\\n                                                  SimpleImputer(strategy='median')),\\n      ...</td>\n      <td>binary</td>\n      <td>0.153357</td>\n      <td>0.893939</td>\n    </tr>\n    <tr>\n      <th>6</th>\n      <td>RandomForestClassifier</td>\n      <td>GridSearchCV(cv=StratifiedKFold(n_splits=5, random_state=41, shuffle=True),\\n             estimator=Pipeline(steps=[('preprocessor',\\n                                        ColumnTransformer(tran...</td>\n      <td>binary</td>\n      <td>0.637860</td>\n      <td>0.893939</td>\n    </tr>\n    <tr>\n      <th>1</th>\n      <td>LogisticRegressionCV</td>\n      <td>(ColumnTransformer(transformers=[('num',\\n                                 Pipeline(steps=[('imputer',\\n                                                  SimpleImputer(strategy='median')),\\n      ...</td>\n      <td>multiclass</td>\n      <td>NaN</td>\n      <td>0.903226</td>\n    </tr>\n  </tbody>\n</table>\n</div>"
     },
     "execution_count": 43,
     "metadata": {},
     "output_type": "execute_result"
    }
   ],
   "source": [
    "models_df = pd.DataFrame(models_dict).sort_values('val_accuracy')\n",
    "models_df"
   ],
   "metadata": {
    "collapsed": false,
    "pycharm": {
     "name": "#%%\n"
    }
   }
  },
  {
   "cell_type": "code",
   "execution_count": 44,
   "outputs": [],
   "source": [
    "best_model = models_df.iloc[-1]\n",
    "\n",
    "if best_model['model_name'] =='CatBoostClassifier':\n",
    "    y_pred = best_model['model'].predict(Pool(X_test, cat_features=cat_cols))\n",
    "else:\n",
    "    y_pred = best_model['model'].predict_proba(X_test)\n",
    "\n",
    "if y_pred.shape[1] == 2:\n",
    "    y_pred = pd.Series(y_pred[:, 1]).apply(lambda x: 1 if x > best_model['threshold'] else 0)\n",
    "elif y_pred.shape[1] > 2:\n",
    "    y_pred = pd.DataFrame(y_pred.round(3).argmax(axis=1), columns=['target_pred'])"
   ],
   "metadata": {
    "collapsed": false,
    "pycharm": {
     "name": "#%%\n"
    }
   }
  },
  {
   "cell_type": "code",
   "execution_count": 45,
   "outputs": [],
   "source": [
    "res_df = pd.DataFrame(lbl_encoder.inverse_transform(y_pred))\n",
    "res_df.to_csv(\"outputs/prediction__.csv\", header=False, index=False)"
   ],
   "metadata": {
    "collapsed": false,
    "pycharm": {
     "name": "#%%\n"
    }
   }
  }
 ],
 "metadata": {
  "kernelspec": {
   "display_name": "Python 3",
   "language": "python",
   "name": "python3"
  },
  "language_info": {
   "codemirror_mode": {
    "name": "ipython",
    "version": 3
   },
   "file_extension": ".py",
   "mimetype": "text/x-python",
   "name": "python",
   "nbconvert_exporter": "python",
   "pygments_lexer": "ipython3",
   "version": "3.7.4"
  }
 },
 "nbformat": 4,
 "nbformat_minor": 4
}